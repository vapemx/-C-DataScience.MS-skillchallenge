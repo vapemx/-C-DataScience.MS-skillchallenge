{
 "cells": [
  {
   "attachments": {},
   "cell_type": "markdown",
   "metadata": {},
   "source": [
    "## Normalización y estandarización de datos\n",
    "\n",
    "La normalización es modificar una escala de valores para que todos se ajusten a un valor predeterminado. La estandarización es modificar una escala de valores para que todos se ajusten a una distribución normal (normalmente de 0 a 1).\n",
    "Por ejemplo, si tenemos una lista de edades de 0, 50 y 100 años, podemos normalizarlo dividiendo entre |00 y obtener 0, 0.5 y 1.\n",
    "\n",
    "La estadarización es algo parecida, pero, aquí se resta la demia de los valores y después se divide por la desviación estándar. Después de la estandarización, el valor medio es 0 y aproximademente el 95% de los valores se encuentra entre -2 y 2.\n",
    "\n",
    "La estandarización nos ayuda a un entrenamiento de modelos mucho más rápido, esto porque se reducen las iteraciones de entrenamiento."
   ]
  }
 ],
 "metadata": {
  "language_info": {
   "name": "python"
  },
  "orig_nbformat": 4
 },
 "nbformat": 4,
 "nbformat_minor": 2
}
