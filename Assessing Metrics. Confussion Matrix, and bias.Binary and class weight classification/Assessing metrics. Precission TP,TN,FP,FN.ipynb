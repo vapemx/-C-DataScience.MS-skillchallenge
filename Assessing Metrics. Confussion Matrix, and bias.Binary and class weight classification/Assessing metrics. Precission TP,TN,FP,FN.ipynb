{
 "cells": [
  {
   "cell_type": "code",
   "execution_count": 2,
   "metadata": {},
   "outputs": [
    {
     "data": {
      "text/html": [
       "<div>\n",
       "<style scoped>\n",
       "    .dataframe tbody tr th:only-of-type {\n",
       "        vertical-align: middle;\n",
       "    }\n",
       "\n",
       "    .dataframe tbody tr th {\n",
       "        vertical-align: top;\n",
       "    }\n",
       "\n",
       "    .dataframe thead th {\n",
       "        text-align: right;\n",
       "    }\n",
       "</style>\n",
       "<table border=\"1\" class=\"dataframe\">\n",
       "  <thead>\n",
       "    <tr style=\"text-align: right;\">\n",
       "      <th></th>\n",
       "      <th>size</th>\n",
       "      <th>roughness</th>\n",
       "      <th>color</th>\n",
       "      <th>motion</th>\n",
       "      <th>label</th>\n",
       "    </tr>\n",
       "  </thead>\n",
       "  <tbody>\n",
       "    <tr>\n",
       "      <th>0</th>\n",
       "      <td>50.959361</td>\n",
       "      <td>1.318226</td>\n",
       "      <td>green</td>\n",
       "      <td>0.054290</td>\n",
       "      <td>tree</td>\n",
       "    </tr>\n",
       "    <tr>\n",
       "      <th>1</th>\n",
       "      <td>60.008521</td>\n",
       "      <td>0.554291</td>\n",
       "      <td>brown</td>\n",
       "      <td>0.000000</td>\n",
       "      <td>tree</td>\n",
       "    </tr>\n",
       "    <tr>\n",
       "      <th>2</th>\n",
       "      <td>20.530772</td>\n",
       "      <td>1.097752</td>\n",
       "      <td>white</td>\n",
       "      <td>1.380464</td>\n",
       "      <td>tree</td>\n",
       "    </tr>\n",
       "    <tr>\n",
       "      <th>3</th>\n",
       "      <td>28.092138</td>\n",
       "      <td>0.966482</td>\n",
       "      <td>grey</td>\n",
       "      <td>0.650528</td>\n",
       "      <td>tree</td>\n",
       "    </tr>\n",
       "    <tr>\n",
       "      <th>4</th>\n",
       "      <td>48.344211</td>\n",
       "      <td>0.799093</td>\n",
       "      <td>grey</td>\n",
       "      <td>0.000000</td>\n",
       "      <td>tree</td>\n",
       "    </tr>\n",
       "  </tbody>\n",
       "</table>\n",
       "</div>"
      ],
      "text/plain": [
       "        size  roughness  color    motion label\n",
       "0  50.959361   1.318226  green  0.054290  tree\n",
       "1  60.008521   0.554291  brown  0.000000  tree\n",
       "2  20.530772   1.097752  white  1.380464  tree\n",
       "3  28.092138   0.966482   grey  0.650528  tree\n",
       "4  48.344211   0.799093   grey  0.000000  tree"
      ]
     },
     "execution_count": 2,
     "metadata": {},
     "output_type": "execute_result"
    }
   ],
   "source": [
    "import pandas\n",
    "import numpy\n",
    "\n",
    "#Import the data from the .csv file\n",
    "dataset = pandas.read_csv('snow_obj.csv', delimiter=\"\\t\")\n",
    "\n",
    "#Let's have a look at the data\n",
    "dataset.head()"
   ]
  },
  {
   "cell_type": "code",
   "execution_count": 3,
   "metadata": {},
   "outputs": [
    {
     "name": "stdout",
     "output_type": "stream",
     "text": [
      "Model trained!\n"
     ]
    }
   ],
   "source": [
    "from sklearn.ensemble import RandomForestClassifier\n",
    "from sklearn.model_selection import train_test_split\n",
    "\n",
    "# Add a new label with true/false values to our dataset\n",
    "dataset[\"is_hiker\"] = dataset.label == \"hiker\"\n",
    "\n",
    "# Split the dataset in an 70/30 train/test ratio. \n",
    "train, test = train_test_split(dataset, test_size=0.3, random_state=1, shuffle=True)\n",
    "\n",
    "# define a random forest model\n",
    "model = RandomForestClassifier(n_estimators=1, random_state=1, verbose=False)\n",
    "\n",
    "# Define which features are to be used \n",
    "features = [\"size\", \"roughness\", \"motion\"]\n",
    "\n",
    "# Train the model using the binary label\n",
    "model.fit(train[features], train.is_hiker)\n",
    "\n",
    "print(\"Model trained!\")"
   ]
  },
  {
   "cell_type": "code",
   "execution_count": 5,
   "metadata": {},
   "outputs": [
    {
     "data": {
      "image/svg+xml": [
       "<svg class=\"main-svg\" xmlns=\"http://www.w3.org/2000/svg\" xmlns:xlink=\"http://www.w3.org/1999/xlink\" width=\"700\" height=\"500\" style=\"\" viewBox=\"0 0 700 500\"><rect x=\"0\" y=\"0\" width=\"700\" height=\"500\" style=\"fill: rgb(255, 255, 255); fill-opacity: 1;\"/><defs id=\"defs-fc958a\"><g class=\"clips\"><clipPath id=\"clipfc958axyplot\" class=\"plotclip\"><rect width=\"485\" height=\"370\"/></clipPath><clipPath class=\"axesclip\" id=\"clipfc958ax\"><rect x=\"120\" y=\"0\" width=\"485\" height=\"500\"/></clipPath><clipPath class=\"axesclip\" id=\"clipfc958ay\"><rect x=\"0\" y=\"80\" width=\"700\" height=\"370\"/></clipPath><clipPath class=\"axesclip\" id=\"clipfc958axy\"><rect x=\"120\" y=\"80\" width=\"485\" height=\"370\"/></clipPath></g><g class=\"gradients\"><linearGradient x1=\"0\" x2=\"0\" y1=\"1\" y2=\"0\" id=\"gfc958a-cb7b86ea\"><stop offset=\"0%\" stop-color=\"rgb(13, 8, 135)\" stop-opacity=\"1\"/><stop offset=\"11.111111%\" stop-color=\"rgb(70, 3, 159)\" stop-opacity=\"1\"/><stop offset=\"22.222222%\" stop-color=\"rgb(114, 1, 168)\" stop-opacity=\"1\"/><stop offset=\"33.333333%\" stop-color=\"rgb(156, 23, 158)\" stop-opacity=\"1\"/><stop offset=\"44.444444%\" stop-color=\"rgb(189, 55, 134)\" stop-opacity=\"1\"/><stop offset=\"55.555556%\" stop-color=\"rgb(216, 87, 107)\" stop-opacity=\"1\"/><stop offset=\"66.666667%\" stop-color=\"rgb(237, 121, 83)\" stop-opacity=\"1\"/><stop offset=\"77.777778%\" stop-color=\"rgb(251, 159, 58)\" stop-opacity=\"1\"/><stop offset=\"88.888889%\" stop-color=\"rgb(253, 202, 38)\" stop-opacity=\"1\"/><stop offset=\"100%\" stop-color=\"rgb(240, 249, 33)\" stop-opacity=\"1\"/></linearGradient></g><g class=\"patterns\"/></defs><g class=\"bglayer\"><rect class=\"bg\" x=\"120\" y=\"80\" width=\"485\" height=\"370\" style=\"fill: rgb(229, 236, 246); fill-opacity: 1; stroke-width: 0;\"/></g><g class=\"layer-below\"><g class=\"imagelayer\"/><g class=\"shapelayer\"/></g><g class=\"cartesianlayer\"><g class=\"subplot xy\"><g class=\"layer-subplot\"><g class=\"shapelayer\"/><g class=\"imagelayer\"/></g><g class=\"minor-gridlayer\"><g class=\"x\"/><g class=\"y\"/></g><g class=\"gridlayer\"><g class=\"x\"><path class=\"xgrid crisp\" transform=\"translate(241.25,0)\" d=\"M0,80v370\" style=\"stroke: rgb(0, 0, 0); stroke-opacity: 1; stroke-width: 1px;\"/><path class=\"xgrid crisp\" transform=\"translate(483.75,0)\" d=\"M0,80v370\" style=\"stroke: rgb(0, 0, 0); stroke-opacity: 1; stroke-width: 1px;\"/></g><g class=\"y\"><path class=\"ygrid crisp\" transform=\"translate(0,357.5)\" d=\"M120,0h485\" style=\"stroke: rgb(255, 255, 255); stroke-opacity: 1; stroke-width: 1px;\"/><path class=\"ygrid crisp\" transform=\"translate(0,172.5)\" d=\"M120,0h485\" style=\"stroke: rgb(255, 255, 255); stroke-opacity: 1; stroke-width: 1px;\"/></g></g><g class=\"zerolinelayer\"/><path class=\"xlines-below\"/><path class=\"ylines-below\"/><g class=\"overlines-below\"/><g class=\"xaxislayer-below\"/><g class=\"yaxislayer-below\"/><g class=\"overaxes-below\"/><g class=\"plot\" transform=\"translate(120,80)\" clip-path=\"url(#clipfc958axyplot)\"><g class=\"heatmaplayer mlayer\"><g class=\"hm\"><image xmlns=\"http://www.w3.org/2000/svg\" preserveAspectRatio=\"none\" height=\"370\" width=\"485\" x=\"0\" y=\"0\" xlink:href=\"data:image/png;base64,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\" style=\"opacity: 1;\"/></g></g></g><g class=\"overplot\"/><path class=\"xlines-above crisp\" d=\"M0,0\" style=\"fill: none;\"/><path class=\"ylines-above crisp\" d=\"M0,0\" style=\"fill: none;\"/><g class=\"overlines-above\"/><g class=\"xaxislayer-above\"><g class=\"xtick\"><text text-anchor=\"middle\" x=\"0\" y=\"76.6\" transform=\"translate(241.25,0)\" style=\"font-family: 'Open Sans', verdana, arial, sans-serif; font-size: 12px; fill: rgb(42, 63, 95); fill-opacity: 1; white-space: pre; opacity: 1;\">false</text></g><g class=\"xtick\"><text text-anchor=\"middle\" x=\"0\" y=\"76.6\" transform=\"translate(483.75,0)\" style=\"font-family: 'Open Sans', verdana, arial, sans-serif; font-size: 12px; fill: rgb(42, 63, 95); fill-opacity: 1; white-space: pre; opacity: 1;\">true</text></g></g><g class=\"yaxislayer-above\"><g class=\"ytick\"><text text-anchor=\"end\" x=\"119\" y=\"4.199999999999999\" transform=\"translate(0,357.5)\" style=\"font-family: 'Open Sans', verdana, arial, sans-serif; font-size: 12px; fill: rgb(42, 63, 95); fill-opacity: 1; white-space: pre; opacity: 1;\">true  </text></g><g class=\"ytick\"><text text-anchor=\"end\" x=\"119\" y=\"4.199999999999999\" transform=\"translate(0,172.5)\" style=\"font-family: 'Open Sans', verdana, arial, sans-serif; font-size: 12px; fill: rgb(42, 63, 95); fill-opacity: 1; white-space: pre; opacity: 1;\">false  </text></g></g><g class=\"overaxes-above\"/></g></g><g class=\"polarlayer\"/><g class=\"smithlayer\"/><g class=\"ternarylayer\"/><g class=\"geolayer\"/><g class=\"funnelarealayer\"/><g class=\"pielayer\"/><g class=\"iciclelayer\"/><g class=\"treemaplayer\"/><g class=\"sunburstlayer\"/><g class=\"glimages\"/><defs id=\"topdefs-fc958a\"><g class=\"clips\"/></defs><g class=\"layer-above\"><g class=\"imagelayer\"/><g class=\"shapelayer\"/></g><g class=\"infolayer\"><g class=\"cb7b86ea colorbar\" transform=\"translate(120,80)\"><rect class=\"cbbg\" x=\"495\" y=\"0\" width=\"73.28125\" height=\"370\" style=\"fill: rgb(0, 0, 0); fill-opacity: 0; stroke: rgb(68, 68, 68); stroke-opacity: 1; stroke-width: 0;\"/><g class=\"cbfills\" transform=\"translate(0,10)\"><rect class=\"cbfill gradient_filled\" x=\"505\" y=\"0\" width=\"30\" height=\"350\" style=\"fill: url('#gfc958a-cb7b86ea');\"/></g><g class=\"cblines\" transform=\"translate(0,10)\"/><g class=\"cbaxis crisp\" transform=\"translate(0,-80)\"><g class=\"ycb7b86eatick\"><text text-anchor=\"start\" x=\"537.9\" y=\"4.199999999999999\" transform=\"translate(0,389.7)\" style=\"font-family: 'Open Sans', verdana, arial, sans-serif; font-size: 12px; fill: rgb(42, 63, 95); fill-opacity: 1; white-space: pre; opacity: 1;\">100</text></g><g class=\"ycb7b86eatick\"><text text-anchor=\"start\" x=\"537.9\" y=\"4.199999999999999\" style=\"font-family: 'Open Sans', verdana, arial, sans-serif; font-size: 12px; fill: rgb(42, 63, 95); fill-opacity: 1; white-space: pre; opacity: 1;\" transform=\"translate(0,318.84999999999997)\">200</text></g><g class=\"ycb7b86eatick\"><text text-anchor=\"start\" x=\"537.9\" y=\"4.199999999999999\" style=\"font-family: 'Open Sans', verdana, arial, sans-serif; font-size: 12px; fill: rgb(42, 63, 95); fill-opacity: 1; white-space: pre; opacity: 1;\" transform=\"translate(0,248)\">300</text></g><g class=\"ycb7b86eatick\"><text text-anchor=\"start\" x=\"537.9\" y=\"4.199999999999999\" style=\"font-family: 'Open Sans', verdana, arial, sans-serif; font-size: 12px; fill: rgb(42, 63, 95); fill-opacity: 1; white-space: pre; opacity: 1;\" transform=\"translate(0,177.14999999999998)\">400</text></g><g class=\"ycb7b86eatick\"><text text-anchor=\"start\" x=\"537.9\" y=\"4.199999999999999\" style=\"font-family: 'Open Sans', verdana, arial, sans-serif; font-size: 12px; fill: rgb(42, 63, 95); fill-opacity: 1; white-space: pre; opacity: 1;\" transform=\"translate(0,106.29999999999998)\">500</text></g></g><g class=\"cbtitleunshift\" transform=\"translate(-120,-80)\"><g class=\"cbtitle\"/></g><rect class=\"cboutline\" x=\"505\" y=\"10\" width=\"30\" height=\"350\" style=\"stroke: rgb(68, 68, 68); stroke-opacity: 1; fill: none; stroke-width: 0;\"/></g><g class=\"g-gtitle\"><text class=\"gtitle\" x=\"35\" y=\"40\" text-anchor=\"start\" dy=\"0em\" style=\"font-family: 'Open Sans', verdana, arial, sans-serif; font-size: 17px; fill: rgb(42, 63, 95); opacity: 1; font-weight: normal; white-space: pre;\"><tspan style=\"font-weight:bold\">Confusion matrix</tspan></text></g><g class=\"g-xtitle\"/><g class=\"g-ytitle\"/><g class=\"annotation\" data-index=\"0\" style=\"opacity: 1;\"><g class=\"annotation-text-g\" transform=\"rotate(0,241.25,172.5)\"><g class=\"cursor-pointer\" transform=\"translate(228,163)\"><rect class=\"bg\" x=\"0.5\" y=\"0.5\" width=\"26\" height=\"18\" style=\"stroke-width: 1px; stroke: rgb(0, 0, 0); stroke-opacity: 0; fill: rgb(0, 0, 0); fill-opacity: 0;\"/><text class=\"annotation-text\" text-anchor=\"middle\" x=\"13.453125\" y=\"14\" style=\"font-family: 'Open Sans', verdana, arial, sans-serif; font-size: 12px; fill: rgb(0, 0, 0); fill-opacity: 1; white-space: pre;\">523</text></g></g></g><g class=\"annotation\" data-index=\"1\" style=\"opacity: 1;\"><g class=\"annotation-text-g\" transform=\"rotate(0,483.75,172.5)\"><g class=\"cursor-pointer\" transform=\"translate(474,163)\"><rect class=\"bg\" x=\"0.5\" y=\"0.5\" width=\"18\" height=\"18\" style=\"stroke-width: 1px; stroke: rgb(0, 0, 0); stroke-opacity: 0; fill: rgb(0, 0, 0); fill-opacity: 0;\"/><text class=\"annotation-text\" text-anchor=\"middle\" x=\"9.640625\" y=\"14\" style=\"font-family: 'Open Sans', verdana, arial, sans-serif; font-size: 12px; fill: rgb(255, 255, 255); fill-opacity: 1; white-space: pre;\">33</text></g></g></g><g class=\"annotation\" data-index=\"2\" style=\"opacity: 1;\"><g class=\"annotation-text-g\" transform=\"rotate(0,241.25,357.5)\"><g class=\"cursor-pointer\" transform=\"translate(231,348)\"><rect class=\"bg\" x=\"0.5\" y=\"0.5\" width=\"19\" height=\"18\" style=\"stroke-width: 1px; stroke: rgb(0, 0, 0); stroke-opacity: 0; fill: rgb(0, 0, 0); fill-opacity: 0;\"/><text class=\"annotation-text\" text-anchor=\"middle\" x=\"9.640625\" y=\"14\" style=\"font-family: 'Open Sans', verdana, arial, sans-serif; font-size: 12px; fill: rgb(255, 255, 255); fill-opacity: 1; white-space: pre;\">29</text></g></g></g><g class=\"annotation\" data-index=\"3\" style=\"opacity: 1;\"><g class=\"annotation-text-g\" transform=\"rotate(0,483.75,357.5)\"><g class=\"cursor-pointer\" transform=\"translate(474,348)\"><rect class=\"bg\" x=\"0.5\" y=\"0.5\" width=\"19\" height=\"18\" style=\"stroke-width: 1px; stroke: rgb(0, 0, 0); stroke-opacity: 0; fill: rgb(0, 0, 0); fill-opacity: 0;\"/><text class=\"annotation-text\" text-anchor=\"middle\" x=\"9.640625\" y=\"14\" style=\"font-family: 'Open Sans', verdana, arial, sans-serif; font-size: 12px; fill: rgb(255, 255, 255); fill-opacity: 1; white-space: pre;\">75</text></g></g></g><g class=\"annotation\" data-index=\"4\" style=\"opacity: 1;\"><g class=\"annotation-text-g\" transform=\"rotate(0,362.5,494.99999999999994)\"><g class=\"cursor-pointer\" transform=\"translate(309,484)\"><rect class=\"bg\" x=\"0.5\" y=\"0.5\" width=\"106\" height=\"20\" style=\"stroke-width: 1px; stroke: rgb(0, 0, 0); stroke-opacity: 0; fill: rgb(0, 0, 0); fill-opacity: 0;\"/><text class=\"annotation-text\" text-anchor=\"middle\" x=\"53.640625\" y=\"16\" style=\"font-family: 'Open Sans', verdana, arial, sans-serif; font-size: 14px; fill: rgb(0, 0, 0); fill-opacity: 1; white-space: pre;\">Predicted label</text></g></g></g><g class=\"annotation\" data-index=\"5\" style=\"opacity: 1;\"><g class=\"annotation-text-g\" transform=\"rotate(-90,57.75,265)\"><g class=\"cursor-pointer\" transform=\"translate(14,255)\"><rect class=\"bg\" x=\"0.5\" y=\"0.5\" width=\"86\" height=\"20\" style=\"stroke-width: 1px; stroke: rgb(0, 0, 0); stroke-opacity: 0; fill: rgb(0, 0, 0); fill-opacity: 0;\"/><text class=\"annotation-text\" text-anchor=\"middle\" x=\"43.796875\" y=\"16\" style=\"font-family: 'Open Sans', verdana, arial, sans-serif; font-size: 14px; fill: rgb(0, 0, 0); fill-opacity: 1; white-space: pre;\">Actual label</text></g></g></g></g></svg>"
      ]
     },
     "metadata": {},
     "output_type": "display_data"
    }
   ],
   "source": [
    "# sklearn has a very convenient utility to build confusion matrices\n",
    "from sklearn.metrics import confusion_matrix\n",
    "import plotly.figure_factory as ff\n",
    "import plotly.io as pio\n",
    "pio.renderers.default = \"svg\"\n",
    "\n",
    "# Calculate the model's accuracy on the TEST set\n",
    "actual = test.is_hiker\n",
    "predictions = model.predict(test[features])\n",
    "\n",
    "# Build and print our confusion matrix, using the actual values and predictions \n",
    "# from the test set, calculated in previous cells\n",
    "cm = confusion_matrix(actual, predictions, normalize=None)\n",
    "\n",
    "# Create the list of unique labels in the test set, to use in our plot\n",
    "# I.e., ['True', 'False',]\n",
    "unique_targets = sorted(list(test[\"is_hiker\"].unique()))\n",
    "\n",
    "# Convert values to lower case so the plot code can count the outcomes\n",
    "x = y = [str(s).lower() for s in unique_targets]\n",
    "\n",
    "# Plot the matrix above as a heatmap with annotations (values) in its cells\n",
    "fig = ff.create_annotated_heatmap(cm, x, y)\n",
    "\n",
    "# Set titles and ordering\n",
    "fig.update_layout(  title_text=\"<b>Confusion matrix</b>\", \n",
    "                    yaxis = dict(categoryorder = \"category descending\"))\n",
    "\n",
    "fig.add_annotation(dict(font=dict(color=\"black\",size=14),\n",
    "                        x=0.5,\n",
    "                        y=-0.15,\n",
    "                        showarrow=False,\n",
    "                        text=\"Predicted label\",\n",
    "                        xref=\"paper\",\n",
    "                        yref=\"paper\"))\n",
    "\n",
    "fig.add_annotation(dict(font=dict(color=\"black\",size=14),\n",
    "                        x=-0.15,\n",
    "                        y=0.5,\n",
    "                        showarrow=False,\n",
    "                        text=\"Actual label\",\n",
    "                        textangle=-90,\n",
    "                        xref=\"paper\",\n",
    "                        yref=\"paper\"))\n",
    "\n",
    "# We need margins so the titles fit\n",
    "fig.update_layout(margin=dict(t=80, r=20, l=120, b=50))\n",
    "fig['data'][0]['showscale'] = True\n",
    "fig.show()"
   ]
  },
  {
   "cell_type": "code",
   "execution_count": 6,
   "metadata": {},
   "outputs": [
    {
     "name": "stdout",
     "output_type": "stream",
     "text": [
      "TP - True Positives:  75\n",
      "TN - True Negatives:  523\n",
      "FP - False positives:  29\n",
      "FN - False negatives:  33\n"
     ]
    }
   ],
   "source": [
    "# Let's also calculate some values that will be used throughout this exercise\n",
    "# We already have actual values and corresponding predictions, defined above\n",
    "correct = actual == predictions\n",
    "tp = numpy.sum(correct & actual)\n",
    "tn = numpy.sum(correct & numpy.logical_not(actual))\n",
    "fp = numpy.sum(numpy.logical_not(correct) & actual)\n",
    "fn = numpy.sum(numpy.logical_not(correct) & numpy.logical_not(actual))\n",
    "\n",
    "print(\"TP - True Positives: \", tp)\n",
    "print(\"TN - True Negatives: \", tn)\n",
    "print(\"FP - False positives: \", fp)\n",
    "print(\"FN - False negatives: \", fn)"
   ]
  },
  {
   "cell_type": "markdown",
   "metadata": {},
   "source": [
    "We can use the values and matrix above to help us understand other metrics.\n",
    "\n",
    "\n",
    "## Calculating metrics\n",
    "\n",
    "From here on we will take a closer look at each at the following metrics, how they are calculated and how they can help explain our current model. \n",
    "\n",
    "* Accuracy\n",
    "* Sensitivity/Recall\n",
    "* Specificity\n",
    "* Precision\n",
    "* False positive rate\n",
    "\n",
    "Let's first recall some useful terms:\n",
    "\n",
    "* TP = True positives: a positive label is correctly predicted\n",
    "* TN = True negatives: a negative label is correctly predicted\n",
    "* FP = False positives: a negative label is predicted as a positive\n",
    "* FN = False negatives: a positive label is predicted as a negative\n",
    "\n",
    "\n",
    "### Accuracy\n",
    "Accuracy is the number of correct predictions divided by the total number of predictions:\n",
    "\n",
    "```\n",
    "    accuracy = (TP+TN) / number of samples\n",
    "```\n",
    "\n",
    "It's possibly the most basic metric used but, as we've seen, it's not the most reliable when *imbalanced datasets* are used.\n",
    "\n",
    "In code:"
   ]
  },
  {
   "cell_type": "code",
   "execution_count": 7,
   "metadata": {},
   "outputs": [
    {
     "name": "stdout",
     "output_type": "stream",
     "text": [
      "Model accuracy is 0.91%\n"
     ]
    }
   ],
   "source": [
    "# Calculate accuracy\n",
    "# len(actual) is the number of samples in the set that generated TP and TN\n",
    "accuracy = (tp+tn) / len(actual) \n",
    "\n",
    "# print result as a percentage\n",
    "print(f\"Model accuracy is {accuracy:.2f}%\")"
   ]
  },
  {
   "cell_type": "markdown",
   "metadata": {},
   "source": [
    "### Sensitivity/Recall\n",
    "\n",
    "*Sensitivity* and *Recall* are interchangeable names for the same metric, which expresses the fraction of samples __correctly__ predicted by a model:\n",
    "\n",
    "\n",
    "```\n",
    "    sensitivity = recall = TP / (TP + FN)\n",
    "```\n",
    "\n",
    "This is an important metric, that tells us how out of all the *actually* __positive__ samples, how many are __correctly__ predicted as positive.\n",
    "\n",
    "In code:"
   ]
  },
  {
   "cell_type": "code",
   "execution_count": 8,
   "metadata": {},
   "outputs": [
    {
     "name": "stdout",
     "output_type": "stream",
     "text": [
      "Model sensitivity/recall is 0.69%\n"
     ]
    }
   ],
   "source": [
    "# code for sensitivity/recall\n",
    "sensitivity = recall = tp / (tp + fn)\n",
    "\n",
    "# print result as a percentage\n",
    "print(f\"Model sensitivity/recall is {sensitivity:.2f}%\")"
   ]
  },
  {
   "cell_type": "markdown",
   "metadata": {},
   "source": [
    "### Specificity\n",
    "Specificity expresses the fraction of __negative__ labels correctly predicted over the total number of existing negative samples:\n",
    "\n",
    "```\n",
    "    specificity = TN / (TN + FP)\n",
    "```\n",
    "\n",
    "Tells us how out of all the *actually* __negative__ samples, how many are __correctly__ predicted as negative\n",
    "\n",
    "It can be calculated using the following code:"
   ]
  },
  {
   "cell_type": "code",
   "execution_count": 9,
   "metadata": {},
   "outputs": [
    {
     "name": "stdout",
     "output_type": "stream",
     "text": [
      "Model specificity is 0.95%\n"
     ]
    }
   ],
   "source": [
    "# Code for specificity\n",
    "specificity = tn / (tn + fp)\n",
    "\n",
    "# print result as a percentage\n",
    "print(f\"Model specificity is {specificity:.2f}%\")"
   ]
  },
  {
   "cell_type": "markdown",
   "metadata": {},
   "source": [
    "### Precision\n",
    "Precision expresses the proportion of __correctly__ predicted positive samples over all positive predictions:\n",
    "\n",
    "```\n",
    "    precision = TP / (TP + FP)\n",
    "```\n",
    "In other words, it indicates how out of all positive predictions, how many are truly positive labels.\n",
    "\n",
    "It can be calculated using the following code:"
   ]
  },
  {
   "cell_type": "code",
   "execution_count": 10,
   "metadata": {},
   "outputs": [
    {
     "name": "stdout",
     "output_type": "stream",
     "text": [
      "Model precision is 0.72%\n"
     ]
    }
   ],
   "source": [
    "# Code for precision\n",
    "\n",
    "precision = tp / (tp + fp)\n",
    "\n",
    "# print result as a percentage\n",
    "print(f\"Model precision is {precision:.2f}%\")"
   ]
  },
  {
   "cell_type": "markdown",
   "metadata": {},
   "source": [
    "### False positive rate\n",
    "False positive rate or FPR, is the number of __incorrect__ positive predictions divided by the total number of negative samples:\n",
    "\n",
    "```\n",
    "    false_positive_rate = FP / (FP + TN)\n",
    "```\n",
    "\n",
    "Out of all the actual negatives, how many were misclassified as positives?\n",
    "\n",
    "In code:"
   ]
  },
  {
   "cell_type": "code",
   "execution_count": 11,
   "metadata": {},
   "outputs": [
    {
     "name": "stdout",
     "output_type": "stream",
     "text": [
      "Model false positive rate is 0.05%\n"
     ]
    }
   ],
   "source": [
    "# Code for false positive rate\n",
    "false_positive_rate = fp / (fp + tn)\n",
    "\n",
    "# print result as a percentage\n",
    "print(f\"Model false positive rate is {false_positive_rate:.2f}%\")\n"
   ]
  },
  {
   "cell_type": "markdown",
   "metadata": {},
   "source": [
    "Notice that the sum of `specificity` and `false positive rate` should always be equal to `1`.\n",
    "\n",
    "## Conclusion\n",
    "\n",
    "There are several different metrics that can help us evaluate the performance of a model, in the context of the quality of its predictions.\n",
    "\n",
    "The choice of the most adequate metrics, however, is primarily a funciton of the data and the problem we are trying to solve."
   ]
  }
 ],
 "metadata": {
  "kernelspec": {
   "display_name": "Python 3 (ipykernel)",
   "language": "python",
   "name": "python3"
  },
  "language_info": {
   "codemirror_mode": {
    "name": "ipython",
    "version": 3
   },
   "file_extension": ".py",
   "mimetype": "text/x-python",
   "name": "python",
   "nbconvert_exporter": "python",
   "pygments_lexer": "ipython3",
   "version": "3.9.7"
  },
  "toc": {
   "base_numbering": 1,
   "nav_menu": {},
   "number_sections": true,
   "sideBar": true,
   "skip_h1_title": false,
   "title_cell": "Table of Contents",
   "title_sidebar": "Contents",
   "toc_cell": false,
   "toc_position": {},
   "toc_section_display": true,
   "toc_window_display": false
  }
 },
 "nbformat": 4,
 "nbformat_minor": 2
}
