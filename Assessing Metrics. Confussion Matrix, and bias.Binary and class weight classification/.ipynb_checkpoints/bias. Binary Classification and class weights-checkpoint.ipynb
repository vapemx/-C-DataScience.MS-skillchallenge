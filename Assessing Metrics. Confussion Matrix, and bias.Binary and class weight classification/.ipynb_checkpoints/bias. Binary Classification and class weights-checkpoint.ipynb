{
 "cells": [
  {
   "cell_type": "code",
   "execution_count": 1,
   "metadata": {},
   "outputs": [
    {
     "data": {
      "text/html": [
       "<div>\n",
       "<style scoped>\n",
       "    .dataframe tbody tr th:only-of-type {\n",
       "        vertical-align: middle;\n",
       "    }\n",
       "\n",
       "    .dataframe tbody tr th {\n",
       "        vertical-align: top;\n",
       "    }\n",
       "\n",
       "    .dataframe thead th {\n",
       "        text-align: right;\n",
       "    }\n",
       "</style>\n",
       "<table border=\"1\" class=\"dataframe\">\n",
       "  <thead>\n",
       "    <tr style=\"text-align: right;\">\n",
       "      <th></th>\n",
       "      <th>size</th>\n",
       "      <th>roughness</th>\n",
       "      <th>color</th>\n",
       "      <th>motion</th>\n",
       "      <th>label</th>\n",
       "    </tr>\n",
       "  </thead>\n",
       "  <tbody>\n",
       "    <tr>\n",
       "      <th>0</th>\n",
       "      <td>50.959361</td>\n",
       "      <td>1.318226</td>\n",
       "      <td>green</td>\n",
       "      <td>0.054290</td>\n",
       "      <td>tree</td>\n",
       "    </tr>\n",
       "    <tr>\n",
       "      <th>1</th>\n",
       "      <td>60.008521</td>\n",
       "      <td>0.554291</td>\n",
       "      <td>brown</td>\n",
       "      <td>0.000000</td>\n",
       "      <td>tree</td>\n",
       "    </tr>\n",
       "    <tr>\n",
       "      <th>2</th>\n",
       "      <td>20.530772</td>\n",
       "      <td>1.097752</td>\n",
       "      <td>white</td>\n",
       "      <td>1.380464</td>\n",
       "      <td>tree</td>\n",
       "    </tr>\n",
       "    <tr>\n",
       "      <th>3</th>\n",
       "      <td>28.092138</td>\n",
       "      <td>0.966482</td>\n",
       "      <td>grey</td>\n",
       "      <td>0.650528</td>\n",
       "      <td>tree</td>\n",
       "    </tr>\n",
       "    <tr>\n",
       "      <th>4</th>\n",
       "      <td>48.344211</td>\n",
       "      <td>0.799093</td>\n",
       "      <td>grey</td>\n",
       "      <td>0.000000</td>\n",
       "      <td>tree</td>\n",
       "    </tr>\n",
       "  </tbody>\n",
       "</table>\n",
       "</div>"
      ],
      "text/plain": [
       "        size  roughness  color    motion label\n",
       "0  50.959361   1.318226  green  0.054290  tree\n",
       "1  60.008521   0.554291  brown  0.000000  tree\n",
       "2  20.530772   1.097752  white  1.380464  tree\n",
       "3  28.092138   0.966482   grey  0.650528  tree\n",
       "4  48.344211   0.799093   grey  0.000000  tree"
      ]
     },
     "execution_count": 1,
     "metadata": {},
     "output_type": "execute_result"
    }
   ],
   "source": [
    "import pandas as pd\n",
    "\n",
    "dataset = pd.read_csv('snow_obj.csv', delimiter='\\t')\n",
    "dataset.head()"
   ]
  },
  {
   "cell_type": "code",
   "execution_count": 2,
   "metadata": {},
   "outputs": [
    {
     "data": {
      "image/svg+xml": [
       "<svg class=\"main-svg\" xmlns=\"http://www.w3.org/2000/svg\" xmlns:xlink=\"http://www.w3.org/1999/xlink\" width=\"700\" height=\"400\" style=\"\" viewBox=\"0 0 700 400\"><rect x=\"0\" y=\"0\" width=\"700\" height=\"400\" style=\"fill: rgb(255, 255, 255); fill-opacity: 1;\"/><defs id=\"defs-ffa38d\"><g class=\"clips\"><clipPath id=\"clipffa38dxyplot\" class=\"plotclip\"><rect width=\"547\" height=\"324\"/></clipPath><clipPath class=\"axesclip\" id=\"clipffa38dx\"><rect x=\"54\" y=\"0\" width=\"547\" height=\"400\"/></clipPath><clipPath class=\"axesclip\" id=\"clipffa38dy\"><rect x=\"0\" y=\"30\" width=\"700\" height=\"324\"/></clipPath><clipPath class=\"axesclip\" id=\"clipffa38dxy\"><rect x=\"54\" y=\"30\" width=\"547\" height=\"324\"/></clipPath></g><g class=\"gradients\"/><g class=\"patterns\"/></defs><g class=\"bglayer\"/><g class=\"layer-below\"><g class=\"imagelayer\"/><g class=\"shapelayer\"/></g><g class=\"cartesianlayer\"><g class=\"subplot xy\"><g class=\"layer-subplot\"><g class=\"shapelayer\"/><g class=\"imagelayer\"/></g><g class=\"minor-gridlayer\"><g class=\"x\"/><g class=\"y\"/></g><g class=\"gridlayer\"><g class=\"x\"/><g class=\"y\"><path class=\"ygrid crisp\" transform=\"translate(0,315.52)\" d=\"M54,0h547\" style=\"stroke: rgb(235, 240, 248); stroke-opacity: 1; stroke-width: 1px;\"/><path class=\"ygrid crisp\" transform=\"translate(0,277.05)\" d=\"M54,0h547\" style=\"stroke: rgb(235, 240, 248); stroke-opacity: 1; stroke-width: 1px;\"/><path class=\"ygrid crisp\" transform=\"translate(0,238.58)\" d=\"M54,0h547\" style=\"stroke: rgb(235, 240, 248); stroke-opacity: 1; stroke-width: 1px;\"/><path class=\"ygrid crisp\" transform=\"translate(0,200.1)\" d=\"M54,0h547\" style=\"stroke: rgb(235, 240, 248); stroke-opacity: 1; stroke-width: 1px;\"/><path class=\"ygrid crisp\" transform=\"translate(0,161.62)\" d=\"M54,0h547\" style=\"stroke: rgb(235, 240, 248); stroke-opacity: 1; stroke-width: 1px;\"/><path class=\"ygrid crisp\" transform=\"translate(0,123.15)\" d=\"M54,0h547\" style=\"stroke: rgb(235, 240, 248); stroke-opacity: 1; stroke-width: 1px;\"/><path class=\"ygrid crisp\" transform=\"translate(0,84.67)\" d=\"M54,0h547\" style=\"stroke: rgb(235, 240, 248); stroke-opacity: 1; stroke-width: 1px;\"/><path class=\"ygrid crisp\" transform=\"translate(0,46.2)\" d=\"M54,0h547\" style=\"stroke: rgb(235, 240, 248); stroke-opacity: 1; stroke-width: 1px;\"/></g></g><g class=\"zerolinelayer\"><path class=\"yzl zl crisp\" transform=\"translate(0,354)\" d=\"M54,0h547\" style=\"stroke: rgb(235, 240, 248); stroke-opacity: 1; stroke-width: 2px;\"/></g><path class=\"xlines-below\"/><path class=\"ylines-below\"/><g class=\"overlines-below\"/><g class=\"xaxislayer-below\"/><g class=\"yaxislayer-below\"/><g class=\"overaxes-below\"/><g class=\"plot\" transform=\"translate(54,30)\" clip-path=\"url(#clipffa38dxyplot)\"><g class=\"barlayer mlayer\"><g class=\"trace bars\" style=\"opacity: 1;\"><g class=\"points\"><g class=\"point\"><path d=\"M13.67,324V247.05H123.08V324Z\" style=\"vector-effect: none; opacity: 1; stroke-width: 1px; fill: rgb(99, 110, 250); fill-opacity: 1; stroke: rgb(68, 68, 68); stroke-opacity: 1;\"/></g></g></g><g class=\"trace bars\" style=\"opacity: 1;\"><g class=\"points\"><g class=\"point\"><path d=\"M150.43,324V170.1H259.83V324Z\" style=\"vector-effect: none; opacity: 1; stroke-width: 1px; fill: rgb(239, 85, 59); fill-opacity: 1; stroke: rgb(68, 68, 68); stroke-opacity: 1;\"/></g></g></g><g class=\"trace bars\" style=\"opacity: 1;\"><g class=\"points\"><g class=\"point\"><path d=\"M287.18,324V16.2H396.58V324Z\" style=\"vector-effect: none; opacity: 1; stroke-width: 1px; fill: rgb(0, 204, 150); fill-opacity: 1; stroke: rgb(68, 68, 68); stroke-opacity: 1;\"/></g></g></g><g class=\"trace bars\" style=\"opacity: 1;\"><g class=\"points\"><g class=\"point\"><path d=\"M423.93,324V16.2H533.33V324Z\" style=\"vector-effect: none; opacity: 1; stroke-width: 1px; fill: rgb(171, 99, 250); fill-opacity: 1; stroke: rgb(68, 68, 68); stroke-opacity: 1;\"/></g></g></g></g></g><g class=\"overplot\"/><path class=\"xlines-above crisp\" d=\"M52,355H601\" style=\"fill: none; stroke-width: 2px; stroke: rgb(235, 240, 248); stroke-opacity: 1;\"/><path class=\"ylines-above crisp\" d=\"M53,30V354\" style=\"fill: none; stroke-width: 2px; stroke: rgb(235, 240, 248); stroke-opacity: 1;\"/><g class=\"overlines-above\"/><g class=\"xaxislayer-above\"><g class=\"xtick\"><text text-anchor=\"middle\" x=\"0\" y=\"370.4\" transform=\"translate(122.38,0)\" style=\"font-family: 'Open Sans', verdana, arial, sans-serif; font-size: 12px; fill: rgb(42, 63, 95); fill-opacity: 1; white-space: pre; opacity: 1;\">animal</text></g><g class=\"xtick\"><text text-anchor=\"middle\" x=\"0\" y=\"370.4\" transform=\"translate(259.13,0)\" style=\"font-family: 'Open Sans', verdana, arial, sans-serif; font-size: 12px; fill: rgb(42, 63, 95); fill-opacity: 1; white-space: pre; opacity: 1;\">hiker</text></g><g class=\"xtick\"><text text-anchor=\"middle\" x=\"0\" y=\"370.4\" transform=\"translate(395.88,0)\" style=\"font-family: 'Open Sans', verdana, arial, sans-serif; font-size: 12px; fill: rgb(42, 63, 95); fill-opacity: 1; white-space: pre; opacity: 1;\">rock</text></g><g class=\"xtick\"><text text-anchor=\"middle\" x=\"0\" y=\"370.4\" transform=\"translate(532.63,0)\" style=\"font-family: 'Open Sans', verdana, arial, sans-serif; font-size: 12px; fill: rgb(42, 63, 95); fill-opacity: 1; white-space: pre; opacity: 1;\">tree</text></g></g><g class=\"yaxislayer-above\"><g class=\"ytick\"><text text-anchor=\"end\" x=\"49.6\" y=\"4.199999999999999\" transform=\"translate(0,354)\" style=\"font-family: 'Open Sans', verdana, arial, sans-serif; font-size: 12px; fill: rgb(42, 63, 95); fill-opacity: 1; white-space: pre; opacity: 1;\">0</text></g><g class=\"ytick\"><text text-anchor=\"end\" x=\"49.6\" y=\"4.199999999999999\" style=\"font-family: 'Open Sans', verdana, arial, sans-serif; font-size: 12px; fill: rgb(42, 63, 95); fill-opacity: 1; white-space: pre; opacity: 1;\" transform=\"translate(0,315.52)\">100</text></g><g class=\"ytick\"><text text-anchor=\"end\" x=\"49.6\" y=\"4.199999999999999\" style=\"font-family: 'Open Sans', verdana, arial, sans-serif; font-size: 12px; fill: rgb(42, 63, 95); fill-opacity: 1; white-space: pre; opacity: 1;\" transform=\"translate(0,277.05)\">200</text></g><g class=\"ytick\"><text text-anchor=\"end\" x=\"49.6\" y=\"4.199999999999999\" style=\"font-family: 'Open Sans', verdana, arial, sans-serif; font-size: 12px; fill: rgb(42, 63, 95); fill-opacity: 1; white-space: pre; opacity: 1;\" transform=\"translate(0,238.58)\">300</text></g><g class=\"ytick\"><text text-anchor=\"end\" x=\"49.6\" y=\"4.199999999999999\" style=\"font-family: 'Open Sans', verdana, arial, sans-serif; font-size: 12px; fill: rgb(42, 63, 95); fill-opacity: 1; white-space: pre; opacity: 1;\" transform=\"translate(0,200.1)\">400</text></g><g class=\"ytick\"><text text-anchor=\"end\" x=\"49.6\" y=\"4.199999999999999\" style=\"font-family: 'Open Sans', verdana, arial, sans-serif; font-size: 12px; fill: rgb(42, 63, 95); fill-opacity: 1; white-space: pre; opacity: 1;\" transform=\"translate(0,161.62)\">500</text></g><g class=\"ytick\"><text text-anchor=\"end\" x=\"49.6\" y=\"4.199999999999999\" style=\"font-family: 'Open Sans', verdana, arial, sans-serif; font-size: 12px; fill: rgb(42, 63, 95); fill-opacity: 1; white-space: pre; opacity: 1;\" transform=\"translate(0,123.15)\">600</text></g><g class=\"ytick\"><text text-anchor=\"end\" x=\"49.6\" y=\"4.199999999999999\" style=\"font-family: 'Open Sans', verdana, arial, sans-serif; font-size: 12px; fill: rgb(42, 63, 95); fill-opacity: 1; white-space: pre; opacity: 1;\" transform=\"translate(0,84.67)\">700</text></g><g class=\"ytick\"><text text-anchor=\"end\" x=\"49.6\" y=\"4.199999999999999\" style=\"font-family: 'Open Sans', verdana, arial, sans-serif; font-size: 12px; fill: rgb(42, 63, 95); fill-opacity: 1; white-space: pre; opacity: 1;\" transform=\"translate(0,46.2)\">800</text></g></g><g class=\"overaxes-above\"/></g></g><g class=\"polarlayer\"/><g class=\"smithlayer\"/><g class=\"ternarylayer\"/><g class=\"geolayer\"/><g class=\"funnelarealayer\"/><g class=\"pielayer\"/><g class=\"iciclelayer\"/><g class=\"treemaplayer\"/><g class=\"sunburstlayer\"/><g class=\"glimages\"/><defs id=\"topdefs-ffa38d\"><g class=\"clips\"/><clipPath id=\"legendffa38d\"><rect width=\"86\" height=\"105\" x=\"0\" y=\"0\"/></clipPath></defs><g class=\"layer-above\"><g class=\"imagelayer\"/><g class=\"shapelayer\"/></g><g class=\"infolayer\"><g class=\"legend\" pointer-events=\"all\" transform=\"translate(611.94,30)\"><rect class=\"bg\" shape-rendering=\"crispEdges\" style=\"stroke: rgb(68, 68, 68); stroke-opacity: 1; fill: rgb(255, 255, 255); fill-opacity: 1; stroke-width: 0px;\" width=\"86\" height=\"105\" x=\"0\" y=\"0\"/><g class=\"scrollbox\" transform=\"\" clip-path=\"url(#legendffa38d)\"><text class=\"legendtitletext\" text-anchor=\"start\" x=\"2\" y=\"18.2\" style=\"font-family: 'Open Sans', verdana, arial, sans-serif; font-size: 14px; fill: rgb(42, 63, 95); fill-opacity: 1; white-space: pre;\">label</text><g class=\"groups\"><g class=\"traces\" transform=\"translate(0,32.7)\" style=\"opacity: 1;\"><text class=\"legendtext\" text-anchor=\"start\" x=\"40\" y=\"4.680000000000001\" style=\"font-family: 'Open Sans', verdana, arial, sans-serif; font-size: 12px; fill: rgb(42, 63, 95); fill-opacity: 1; white-space: pre;\">animal</text><g class=\"layers\" style=\"opacity: 1;\"><g class=\"legendfill\"/><g class=\"legendlines\"/><g class=\"legendsymbols\"><g class=\"legendpoints\"><path class=\"legendundefined\" d=\"M6,6H-6V-6H6Z\" transform=\"translate(20,0)\" style=\"stroke-width: 1px; fill: rgb(99, 110, 250); fill-opacity: 1; stroke: rgb(68, 68, 68); stroke-opacity: 1;\"/></g></g></g><rect class=\"legendtoggle\" x=\"0\" y=\"-9.5\" width=\"80.265625\" height=\"19\" style=\"fill: rgb(0, 0, 0); fill-opacity: 0;\"/></g><g class=\"traces\" transform=\"translate(0,51.7)\" style=\"opacity: 1;\"><text class=\"legendtext\" text-anchor=\"start\" x=\"40\" y=\"4.680000000000001\" style=\"font-family: 'Open Sans', verdana, arial, sans-serif; font-size: 12px; fill: rgb(42, 63, 95); fill-opacity: 1; white-space: pre;\">hiker</text><g class=\"layers\" style=\"opacity: 1;\"><g class=\"legendfill\"/><g class=\"legendlines\"/><g class=\"legendsymbols\"><g class=\"legendpoints\"><path class=\"legendundefined\" d=\"M6,6H-6V-6H6Z\" transform=\"translate(20,0)\" style=\"stroke-width: 1px; fill: rgb(239, 85, 59); fill-opacity: 1; stroke: rgb(68, 68, 68); stroke-opacity: 1;\"/></g></g></g><rect class=\"legendtoggle\" x=\"0\" y=\"-9.5\" width=\"80.265625\" height=\"19\" style=\"fill: rgb(0, 0, 0); fill-opacity: 0;\"/></g><g class=\"traces\" transform=\"translate(0,70.7)\" style=\"opacity: 1;\"><text class=\"legendtext\" text-anchor=\"start\" x=\"40\" y=\"4.680000000000001\" style=\"font-family: 'Open Sans', verdana, arial, sans-serif; font-size: 12px; fill: rgb(42, 63, 95); fill-opacity: 1; white-space: pre;\">rock</text><g class=\"layers\" style=\"opacity: 1;\"><g class=\"legendfill\"/><g class=\"legendlines\"/><g class=\"legendsymbols\"><g class=\"legendpoints\"><path class=\"legendundefined\" d=\"M6,6H-6V-6H6Z\" transform=\"translate(20,0)\" style=\"stroke-width: 1px; fill: rgb(0, 204, 150); fill-opacity: 1; stroke: rgb(68, 68, 68); stroke-opacity: 1;\"/></g></g></g><rect class=\"legendtoggle\" x=\"0\" y=\"-9.5\" width=\"80.265625\" height=\"19\" style=\"fill: rgb(0, 0, 0); fill-opacity: 0;\"/></g><g class=\"traces\" transform=\"translate(0,89.7)\" style=\"opacity: 1;\"><text class=\"legendtext\" text-anchor=\"start\" x=\"40\" y=\"4.680000000000001\" style=\"font-family: 'Open Sans', verdana, arial, sans-serif; font-size: 12px; fill: rgb(42, 63, 95); fill-opacity: 1; white-space: pre;\">tree</text><g class=\"layers\" style=\"opacity: 1;\"><g class=\"legendfill\"/><g class=\"legendlines\"/><g class=\"legendsymbols\"><g class=\"legendpoints\"><path class=\"legendundefined\" d=\"M6,6H-6V-6H6Z\" transform=\"translate(20,0)\" style=\"stroke-width: 1px; fill: rgb(171, 99, 250); fill-opacity: 1; stroke: rgb(68, 68, 68); stroke-opacity: 1;\"/></g></g></g><rect class=\"legendtoggle\" x=\"0\" y=\"-9.5\" width=\"80.265625\" height=\"19\" style=\"fill: rgb(0, 0, 0); fill-opacity: 0;\"/></g></g></g><rect class=\"scrollbar\" rx=\"20\" ry=\"3\" width=\"0\" height=\"0\" style=\"fill: rgb(128, 139, 164); fill-opacity: 1;\" x=\"0\" y=\"0\"/></g><g class=\"g-gtitle\"><text class=\"gtitle\" x=\"350\" y=\"15\" text-anchor=\"middle\" dy=\"0em\" style=\"font-family: 'Open Sans', verdana, arial, sans-serif; font-size: 17px; fill: rgb(42, 63, 95); opacity: 1; font-weight: normal; white-space: pre;\">Label distribution</text></g><g class=\"g-xtitle\" transform=\"translate(0,-0.20625000000001137)\"><text class=\"xtitle\" x=\"327.5\" y=\"397.20625\" text-anchor=\"middle\" style=\"font-family: 'Open Sans', verdana, arial, sans-serif; font-size: 14px; fill: rgb(42, 63, 95); opacity: 1; font-weight: normal; white-space: pre;\">label</text></g><g class=\"g-ytitle\" transform=\"translate(11.0966796875,0)\"><text class=\"ytitle\" transform=\"rotate(-90,2.903125000000003,192)\" x=\"2.903125000000003\" y=\"192\" text-anchor=\"middle\" style=\"font-family: 'Open Sans', verdana, arial, sans-serif; font-size: 14px; fill: rgb(42, 63, 95); opacity: 1; font-weight: normal; white-space: pre;\">count</text></g></g></svg>"
      ]
     },
     "metadata": {},
     "output_type": "display_data"
    }
   ],
   "source": [
    "import graphing # custom graphing code. See our GitHub repo for details\n",
    "import plotly.io as pio\n",
    "pio.renderers.default = \"svg\" \n",
    "\n",
    "# Plot a histogram with counts for each label\n",
    "graphing.multiple_histogram(dataset, label_x=\"label\", label_group=\"label\", title=\"Label distribution\")"
   ]
  },
  {
   "cell_type": "markdown",
   "metadata": {},
   "source": [
    "## Using binary classification\n",
    "\n",
    "For this exercise we will build a *binary classification model*. We want to predict if objects in the snow are \"hikers\" or \"not-hikers\".\n",
    "\n",
    "To do that, we first need to add another column to our dataset, and set it to `True` where the original label is `hiker`, and `False` to anything else:"
   ]
  },
  {
   "cell_type": "code",
   "execution_count": 3,
   "metadata": {},
   "outputs": [
    {
     "data": {
      "image/svg+xml": [
       "<svg class=\"main-svg\" xmlns=\"http://www.w3.org/2000/svg\" xmlns:xlink=\"http://www.w3.org/1999/xlink\" width=\"700\" height=\"400\" style=\"\" viewBox=\"0 0 700 400\"><rect x=\"0\" y=\"0\" width=\"700\" height=\"400\" style=\"fill: rgb(255, 255, 255); fill-opacity: 1;\"/><defs id=\"defs-c90665\"><g class=\"clips\"><clipPath id=\"clipc90665xyplot\" class=\"plotclip\"><rect width=\"549\" height=\"324\"/></clipPath><clipPath class=\"axesclip\" id=\"clipc90665x\"><rect x=\"62\" y=\"0\" width=\"549\" height=\"400\"/></clipPath><clipPath class=\"axesclip\" id=\"clipc90665y\"><rect x=\"0\" y=\"30\" width=\"700\" height=\"324\"/></clipPath><clipPath class=\"axesclip\" id=\"clipc90665xy\"><rect x=\"62\" y=\"30\" width=\"549\" height=\"324\"/></clipPath></g><g class=\"gradients\"/><g class=\"patterns\"/></defs><g class=\"bglayer\"/><g class=\"layer-below\"><g class=\"imagelayer\"/><g class=\"shapelayer\"/></g><g class=\"cartesianlayer\"><g class=\"subplot xy\"><g class=\"layer-subplot\"><g class=\"shapelayer\"/><g class=\"imagelayer\"/></g><g class=\"minor-gridlayer\"><g class=\"x\"/><g class=\"y\"/></g><g class=\"gridlayer\"><g class=\"x\"/><g class=\"y\"><path class=\"ygrid crisp\" transform=\"translate(0,268.5)\" d=\"M62,0h549\" style=\"stroke: rgb(235, 240, 248); stroke-opacity: 1; stroke-width: 1px;\"/><path class=\"ygrid crisp\" transform=\"translate(0,183)\" d=\"M62,0h549\" style=\"stroke: rgb(235, 240, 248); stroke-opacity: 1; stroke-width: 1px;\"/><path class=\"ygrid crisp\" transform=\"translate(0,97.5)\" d=\"M62,0h549\" style=\"stroke: rgb(235, 240, 248); stroke-opacity: 1; stroke-width: 1px;\"/></g></g><g class=\"zerolinelayer\"><path class=\"yzl zl crisp\" transform=\"translate(0,354)\" d=\"M62,0h549\" style=\"stroke: rgb(235, 240, 248); stroke-opacity: 1; stroke-width: 2px;\"/></g><path class=\"xlines-below\"/><path class=\"ylines-below\"/><g class=\"overlines-below\"/><g class=\"xaxislayer-below\"/><g class=\"yaxislayer-below\"/><g class=\"overaxes-below\"/><g class=\"plot\" transform=\"translate(62,30)\" clip-path=\"url(#clipc90665xyplot)\"><g class=\"barlayer mlayer\"><g class=\"trace bars\" style=\"opacity: 1;\"><g class=\"points\"><g class=\"point\"><path d=\"M27.45,324V16.2H247.05V324Z\" style=\"vector-effect: none; opacity: 1; stroke-width: 1px; fill: rgb(99, 110, 250); fill-opacity: 1; stroke: rgb(68, 68, 68); stroke-opacity: 1;\"/></g></g></g><g class=\"trace bars\" style=\"opacity: 1;\"><g class=\"points\"><g class=\"point\"><path d=\"M301.95,324V255.6H521.55V324Z\" style=\"vector-effect: none; opacity: 1; stroke-width: 1px; fill: rgb(239, 85, 59); fill-opacity: 1; stroke: rgb(68, 68, 68); stroke-opacity: 1;\"/></g></g></g></g></g><g class=\"overplot\"/><path class=\"xlines-above crisp\" d=\"M60,355H611\" style=\"fill: none; stroke-width: 2px; stroke: rgb(235, 240, 248); stroke-opacity: 1;\"/><path class=\"ylines-above crisp\" d=\"M61,30V354\" style=\"fill: none; stroke-width: 2px; stroke: rgb(235, 240, 248); stroke-opacity: 1;\"/><g class=\"overlines-above\"/><g class=\"xaxislayer-above\"><g class=\"xtick\"><text text-anchor=\"middle\" x=\"0\" y=\"370.4\" transform=\"translate(199.25,0)\" style=\"font-family: 'Open Sans', verdana, arial, sans-serif; font-size: 12px; fill: rgb(42, 63, 95); fill-opacity: 1; white-space: pre; opacity: 1;\">false</text></g><g class=\"xtick\"><text text-anchor=\"middle\" x=\"0\" y=\"370.4\" transform=\"translate(473.75,0)\" style=\"font-family: 'Open Sans', verdana, arial, sans-serif; font-size: 12px; fill: rgb(42, 63, 95); fill-opacity: 1; white-space: pre; opacity: 1;\">true</text></g></g><g class=\"yaxislayer-above\"><g class=\"ytick\"><text text-anchor=\"end\" x=\"57.6\" y=\"4.199999999999999\" transform=\"translate(0,354)\" style=\"font-family: 'Open Sans', verdana, arial, sans-serif; font-size: 12px; fill: rgb(42, 63, 95); fill-opacity: 1; white-space: pre; opacity: 1;\">0</text></g><g class=\"ytick\"><text text-anchor=\"end\" x=\"57.6\" y=\"4.199999999999999\" style=\"font-family: 'Open Sans', verdana, arial, sans-serif; font-size: 12px; fill: rgb(42, 63, 95); fill-opacity: 1; white-space: pre; opacity: 1;\" transform=\"translate(0,268.5)\">500</text></g><g class=\"ytick\"><text text-anchor=\"end\" x=\"57.6\" y=\"4.199999999999999\" style=\"font-family: 'Open Sans', verdana, arial, sans-serif; font-size: 12px; fill: rgb(42, 63, 95); fill-opacity: 1; white-space: pre; opacity: 1;\" transform=\"translate(0,183)\">1000</text></g><g class=\"ytick\"><text text-anchor=\"end\" x=\"57.6\" y=\"4.199999999999999\" style=\"font-family: 'Open Sans', verdana, arial, sans-serif; font-size: 12px; fill: rgb(42, 63, 95); fill-opacity: 1; white-space: pre; opacity: 1;\" transform=\"translate(0,97.5)\">1500</text></g></g><g class=\"overaxes-above\"/></g></g><g class=\"polarlayer\"/><g class=\"smithlayer\"/><g class=\"ternarylayer\"/><g class=\"geolayer\"/><g class=\"funnelarealayer\"/><g class=\"pielayer\"/><g class=\"iciclelayer\"/><g class=\"treemaplayer\"/><g class=\"sunburstlayer\"/><g class=\"glimages\"/><defs id=\"topdefs-c90665\"><g class=\"clips\"/><clipPath id=\"legendc90665\"><rect width=\"76\" height=\"67\" x=\"0\" y=\"0\"/></clipPath></defs><g class=\"layer-above\"><g class=\"imagelayer\"/><g class=\"shapelayer\"/></g><g class=\"infolayer\"><g class=\"legend\" pointer-events=\"all\" transform=\"translate(621.98,30)\"><rect class=\"bg\" shape-rendering=\"crispEdges\" style=\"stroke: rgb(68, 68, 68); stroke-opacity: 1; fill: rgb(255, 255, 255); fill-opacity: 1; stroke-width: 0px;\" width=\"76\" height=\"67\" x=\"0\" y=\"0\"/><g class=\"scrollbox\" transform=\"\" clip-path=\"url(#legendc90665)\"><text class=\"legendtitletext\" text-anchor=\"start\" x=\"2\" y=\"18.2\" style=\"font-family: 'Open Sans', verdana, arial, sans-serif; font-size: 14px; fill: rgb(42, 63, 95); fill-opacity: 1; white-space: pre;\">is_hiker</text><g class=\"groups\"><g class=\"traces\" transform=\"translate(0,32.7)\" style=\"opacity: 1;\"><text class=\"legendtext\" text-anchor=\"start\" x=\"40\" y=\"4.680000000000001\" style=\"font-family: 'Open Sans', verdana, arial, sans-serif; font-size: 12px; fill: rgb(42, 63, 95); fill-opacity: 1; white-space: pre;\">False</text><g class=\"layers\" style=\"opacity: 1;\"><g class=\"legendfill\"/><g class=\"legendlines\"/><g class=\"legendsymbols\"><g class=\"legendpoints\"><path class=\"legendundefined\" d=\"M6,6H-6V-6H6Z\" transform=\"translate(20,0)\" style=\"stroke-width: 1px; fill: rgb(99, 110, 250); fill-opacity: 1; stroke: rgb(68, 68, 68); stroke-opacity: 1;\"/></g></g></g><rect class=\"legendtoggle\" x=\"0\" y=\"-9.5\" width=\"70.21875\" height=\"19\" style=\"fill: rgb(0, 0, 0); fill-opacity: 0;\"/></g><g class=\"traces\" transform=\"translate(0,51.7)\" style=\"opacity: 1;\"><text class=\"legendtext\" text-anchor=\"start\" x=\"40\" y=\"4.680000000000001\" style=\"font-family: 'Open Sans', verdana, arial, sans-serif; font-size: 12px; fill: rgb(42, 63, 95); fill-opacity: 1; white-space: pre;\">True</text><g class=\"layers\" style=\"opacity: 1;\"><g class=\"legendfill\"/><g class=\"legendlines\"/><g class=\"legendsymbols\"><g class=\"legendpoints\"><path class=\"legendundefined\" d=\"M6,6H-6V-6H6Z\" transform=\"translate(20,0)\" style=\"stroke-width: 1px; fill: rgb(239, 85, 59); fill-opacity: 1; stroke: rgb(68, 68, 68); stroke-opacity: 1;\"/></g></g></g><rect class=\"legendtoggle\" x=\"0\" y=\"-9.5\" width=\"70.21875\" height=\"19\" style=\"fill: rgb(0, 0, 0); fill-opacity: 0;\"/></g></g></g><rect class=\"scrollbar\" rx=\"20\" ry=\"3\" width=\"0\" height=\"0\" style=\"fill: rgb(128, 139, 164); fill-opacity: 1;\" x=\"0\" y=\"0\"/></g><g class=\"g-gtitle\"><text class=\"gtitle\" x=\"350\" y=\"15\" text-anchor=\"middle\" dy=\"0em\" style=\"font-family: 'Open Sans', verdana, arial, sans-serif; font-size: 17px; fill: rgb(42, 63, 95); opacity: 1; font-weight: normal; white-space: pre;\">Distribution for new binary label 'is_hiker'</text></g><g class=\"g-xtitle\" transform=\"translate(0,-0.20625000000001137)\"><text class=\"xtitle\" x=\"336.5\" y=\"397.20625\" text-anchor=\"middle\" style=\"font-family: 'Open Sans', verdana, arial, sans-serif; font-size: 14px; fill: rgb(42, 63, 95); opacity: 1; font-weight: normal; white-space: pre;\">is hiker</text></g><g class=\"g-ytitle\" transform=\"translate(10.7216796875,0)\"><text class=\"ytitle\" transform=\"rotate(-90,3.278125000000003,192)\" x=\"3.278125000000003\" y=\"192\" text-anchor=\"middle\" style=\"font-family: 'Open Sans', verdana, arial, sans-serif; font-size: 14px; fill: rgb(42, 63, 95); opacity: 1; font-weight: normal; white-space: pre;\">count</text></g></g></svg>"
      ]
     },
     "metadata": {},
     "output_type": "display_data"
    }
   ],
   "source": [
    "# Add a new label with true/false values to our dataset\n",
    "dataset[\"is_hiker\"] = dataset.label == \"hiker\"\n",
    "\n",
    "# Plot frequency for new label\n",
    "graphing.multiple_histogram(dataset, label_x=\"is_hiker\", label_group=\"is_hiker\", title=\"Distribution for new binary label 'is_hiker'\")"
   ]
  },
  {
   "cell_type": "code",
   "execution_count": 4,
   "metadata": {},
   "outputs": [
    {
     "name": "stdout",
     "output_type": "stream",
     "text": [
      "Train accuracy: 0.9522727272727273\n",
      "Test accuracy: 0.8772727272727273\n"
     ]
    }
   ],
   "source": [
    "from sklearn.ensemble import RandomForestClassifier\n",
    "from sklearn.model_selection import train_test_split\n",
    "from sklearn.metrics import accuracy_score\n",
    "\n",
    "def assess_accuracy(model, dataset, label):\n",
    "    actual = dataset[label]\n",
    "    predictions = model.predict(dataset[features])\n",
    "    acc = accuracy_score(actual, predictions)\n",
    "    return acc\n",
    "\n",
    "train, test = train_test_split(dataset, test_size=0.2, random_state=2, shuffle=True)\n",
    "\n",
    "model = RandomForestClassifier(n_estimators=1, random_state=1, verbose=False)\n",
    "\n",
    "features = ['size', 'roughness', 'motion']\n",
    "\n",
    "model.fit(train[features], train['is_hiker'])\n",
    "\n",
    "print(\"Train accuracy:\", assess_accuracy(model,train, \"is_hiker\"))\n",
    "print(\"Test accuracy:\", assess_accuracy(model,test, \"is_hiker\"))"
   ]
  },
  {
   "cell_type": "code",
   "execution_count": 5,
   "metadata": {},
   "outputs": [
    {
     "data": {
      "image/svg+xml": [
       "<svg class=\"main-svg\" xmlns=\"http://www.w3.org/2000/svg\" xmlns:xlink=\"http://www.w3.org/1999/xlink\" width=\"700\" height=\"400\" style=\"\" viewBox=\"0 0 700 400\"><rect x=\"0\" y=\"0\" width=\"700\" height=\"400\" style=\"fill: rgb(255, 255, 255); fill-opacity: 1;\"/><defs id=\"defs-b80e7a\"><g class=\"clips\"><clipPath id=\"clipb80e7axyplot\" class=\"plotclip\"><rect width=\"485\" height=\"270\"/></clipPath><clipPath class=\"axesclip\" id=\"clipb80e7ax\"><rect x=\"120\" y=\"0\" width=\"485\" height=\"400\"/></clipPath><clipPath class=\"axesclip\" id=\"clipb80e7ay\"><rect x=\"0\" y=\"80\" width=\"700\" height=\"270\"/></clipPath><clipPath class=\"axesclip\" id=\"clipb80e7axy\"><rect x=\"120\" y=\"80\" width=\"485\" height=\"270\"/></clipPath></g><g class=\"gradients\"><linearGradient x1=\"0\" x2=\"0\" y1=\"1\" y2=\"0\" id=\"gb80e7a-cb349d73\"><stop offset=\"0%\" stop-color=\"rgb(13, 8, 135)\" stop-opacity=\"1\"/><stop offset=\"11.111111%\" stop-color=\"rgb(70, 3, 159)\" stop-opacity=\"1\"/><stop offset=\"22.222222%\" stop-color=\"rgb(114, 1, 168)\" stop-opacity=\"1\"/><stop offset=\"33.333333%\" stop-color=\"rgb(156, 23, 158)\" stop-opacity=\"1\"/><stop offset=\"44.444444%\" stop-color=\"rgb(189, 55, 134)\" stop-opacity=\"1\"/><stop offset=\"55.555556%\" stop-color=\"rgb(216, 87, 107)\" stop-opacity=\"1\"/><stop offset=\"66.666667%\" stop-color=\"rgb(237, 121, 83)\" stop-opacity=\"1\"/><stop offset=\"77.777778%\" stop-color=\"rgb(251, 159, 58)\" stop-opacity=\"1\"/><stop offset=\"88.888889%\" stop-color=\"rgb(253, 202, 38)\" stop-opacity=\"1\"/><stop offset=\"100%\" stop-color=\"rgb(240, 249, 33)\" stop-opacity=\"1\"/></linearGradient></g><g class=\"patterns\"/></defs><g class=\"bglayer\"/><g class=\"layer-below\"><g class=\"imagelayer\"/><g class=\"shapelayer\"/></g><g class=\"cartesianlayer\"><g class=\"subplot xy\"><g class=\"layer-subplot\"><g class=\"shapelayer\"/><g class=\"imagelayer\"/></g><g class=\"minor-gridlayer\"><g class=\"x\"/><g class=\"y\"/></g><g class=\"gridlayer\"><g class=\"x\"><path class=\"xgrid crisp\" transform=\"translate(241.25,0)\" d=\"M0,80v270\" style=\"stroke: rgb(0, 0, 0); stroke-opacity: 1; stroke-width: 1px;\"/><path class=\"xgrid crisp\" transform=\"translate(483.75,0)\" d=\"M0,80v270\" style=\"stroke: rgb(0, 0, 0); stroke-opacity: 1; stroke-width: 1px;\"/></g><g class=\"y\"><path class=\"ygrid crisp\" transform=\"translate(0,282.5)\" d=\"M120,0h485\" style=\"stroke: rgb(235, 240, 248); stroke-opacity: 1; stroke-width: 1px;\"/><path class=\"ygrid crisp\" transform=\"translate(0,147.5)\" d=\"M120,0h485\" style=\"stroke: rgb(235, 240, 248); stroke-opacity: 1; stroke-width: 1px;\"/></g></g><g class=\"zerolinelayer\"/><path class=\"xlines-below\"/><path class=\"ylines-below\"/><g class=\"overlines-below\"/><g class=\"xaxislayer-below\"/><g class=\"yaxislayer-below\"/><g class=\"overaxes-below\"/><g class=\"plot\" transform=\"translate(120,80)\" clip-path=\"url(#clipb80e7axyplot)\"><g class=\"heatmaplayer mlayer\"><g class=\"hm\"><image xmlns=\"http://www.w3.org/2000/svg\" preserveAspectRatio=\"none\" height=\"270\" width=\"485\" x=\"0\" y=\"0\" xlink:href=\"data:image/png;base64,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\" style=\"opacity: 1;\"/></g></g></g><g class=\"overplot\"/><path class=\"xlines-above crisp\" d=\"M118,79H605\" style=\"fill: none; stroke-width: 2px; stroke: rgb(235, 240, 248); stroke-opacity: 1;\"/><path class=\"ylines-above crisp\" d=\"M119,80V350\" style=\"fill: none; stroke-width: 2px; stroke: rgb(235, 240, 248); stroke-opacity: 1;\"/><g class=\"overlines-above\"/><g class=\"xaxislayer-above\"><g class=\"xtick\"><text text-anchor=\"middle\" x=\"0\" y=\"73.19999999999999\" transform=\"translate(241.25,0)\" style=\"font-family: 'Open Sans', verdana, arial, sans-serif; font-size: 12px; fill: rgb(42, 63, 95); fill-opacity: 1; white-space: pre; opacity: 1;\">false</text></g><g class=\"xtick\"><text text-anchor=\"middle\" x=\"0\" y=\"73.19999999999999\" transform=\"translate(483.75,0)\" style=\"font-family: 'Open Sans', verdana, arial, sans-serif; font-size: 12px; fill: rgb(42, 63, 95); fill-opacity: 1; white-space: pre; opacity: 1;\">true</text></g></g><g class=\"yaxislayer-above\"><g class=\"ytick\"><text text-anchor=\"end\" x=\"115.6\" y=\"4.199999999999999\" transform=\"translate(0,282.5)\" style=\"font-family: 'Open Sans', verdana, arial, sans-serif; font-size: 12px; fill: rgb(42, 63, 95); fill-opacity: 1; white-space: pre; opacity: 1;\">true  </text></g><g class=\"ytick\"><text text-anchor=\"end\" x=\"115.6\" y=\"4.199999999999999\" transform=\"translate(0,147.5)\" style=\"font-family: 'Open Sans', verdana, arial, sans-serif; font-size: 12px; fill: rgb(42, 63, 95); fill-opacity: 1; white-space: pre; opacity: 1;\">false  </text></g></g><g class=\"overaxes-above\"/></g></g><g class=\"polarlayer\"/><g class=\"smithlayer\"/><g class=\"ternarylayer\"/><g class=\"geolayer\"/><g class=\"funnelarealayer\"/><g class=\"pielayer\"/><g class=\"iciclelayer\"/><g class=\"treemaplayer\"/><g class=\"sunburstlayer\"/><g class=\"glimages\"/><defs id=\"topdefs-b80e7a\"><g class=\"clips\"/></defs><g class=\"layer-above\"><g class=\"imagelayer\"/><g class=\"shapelayer\"/></g><g class=\"infolayer\"><g class=\"cb349d73 colorbar\" transform=\"translate(120,80)\"><rect class=\"cbbg\" x=\"495\" y=\"0\" width=\"73.28125\" height=\"270\" style=\"fill: rgb(0, 0, 0); fill-opacity: 0; stroke: rgb(68, 68, 68); stroke-opacity: 1; stroke-width: 0;\"/><g class=\"cbfills\" transform=\"translate(0,10)\"><rect class=\"cbfill gradient_filled\" x=\"505\" y=\"0\" width=\"30\" height=\"250\" style=\"fill: url('#gb80e7a-cb349d73');\"/></g><g class=\"cblines\" transform=\"translate(0,10)\"/><g class=\"cbaxis crisp\" transform=\"translate(0,-80)\"><g class=\"ycb349d73tick\"><text text-anchor=\"start\" x=\"537.9\" y=\"4.199999999999999\" transform=\"translate(0,318.96)\" style=\"font-family: 'Open Sans', verdana, arial, sans-serif; font-size: 12px; fill: rgb(42, 63, 95); fill-opacity: 1; white-space: pre; opacity: 1;\">50</text></g><g class=\"ycb349d73tick\"><text text-anchor=\"start\" x=\"537.9\" y=\"4.199999999999999\" style=\"font-family: 'Open Sans', verdana, arial, sans-serif; font-size: 12px; fill: rgb(42, 63, 95); fill-opacity: 1; white-space: pre; opacity: 1;\" transform=\"translate(0,276.87)\">100</text></g><g class=\"ycb349d73tick\"><text text-anchor=\"start\" x=\"537.9\" y=\"4.199999999999999\" style=\"font-family: 'Open Sans', verdana, arial, sans-serif; font-size: 12px; fill: rgb(42, 63, 95); fill-opacity: 1; white-space: pre; opacity: 1;\" transform=\"translate(0,234.77999999999997)\">150</text></g><g class=\"ycb349d73tick\"><text text-anchor=\"start\" x=\"537.9\" y=\"4.199999999999999\" style=\"font-family: 'Open Sans', verdana, arial, sans-serif; font-size: 12px; fill: rgb(42, 63, 95); fill-opacity: 1; white-space: pre; opacity: 1;\" transform=\"translate(0,192.69)\">200</text></g><g class=\"ycb349d73tick\"><text text-anchor=\"start\" x=\"537.9\" y=\"4.199999999999999\" style=\"font-family: 'Open Sans', verdana, arial, sans-serif; font-size: 12px; fill: rgb(42, 63, 95); fill-opacity: 1; white-space: pre; opacity: 1;\" transform=\"translate(0,150.60999999999999)\">250</text></g><g class=\"ycb349d73tick\"><text text-anchor=\"start\" x=\"537.9\" y=\"4.199999999999999\" style=\"font-family: 'Open Sans', verdana, arial, sans-serif; font-size: 12px; fill: rgb(42, 63, 95); fill-opacity: 1; white-space: pre; opacity: 1;\" transform=\"translate(0,108.51999999999998)\">300</text></g></g><g class=\"cbtitleunshift\" transform=\"translate(-120,-80)\"><g class=\"cbtitle\"/></g><rect class=\"cboutline\" x=\"505\" y=\"10\" width=\"30\" height=\"250\" style=\"stroke: rgb(68, 68, 68); stroke-opacity: 1; fill: none; stroke-width: 0;\"/></g><g class=\"g-gtitle\"><text class=\"gtitle\" x=\"350\" y=\"40\" text-anchor=\"middle\" dy=\"0em\" style=\"font-family: 'Open Sans', verdana, arial, sans-serif; font-size: 17px; fill: rgb(42, 63, 95); opacity: 1; font-weight: normal; white-space: pre;\"><tspan style=\"font-weight:bold\">Confusion matrix</tspan></text></g><g class=\"g-xtitle\"/><g class=\"g-ytitle\"/><g class=\"annotation\" data-index=\"0\" style=\"opacity: 1;\"><g class=\"annotation-text-g\" transform=\"rotate(0,241.25,147.5)\"><g class=\"cursor-pointer\" transform=\"translate(228,138)\"><rect class=\"bg\" x=\"0.5\" y=\"0.5\" width=\"26\" height=\"18\" style=\"stroke-width: 1px; stroke: rgb(0, 0, 0); stroke-opacity: 0; fill: rgb(0, 0, 0); fill-opacity: 0;\"/><text class=\"annotation-text\" text-anchor=\"middle\" x=\"13.453125\" y=\"14\" style=\"font-family: 'Open Sans', verdana, arial, sans-serif; font-size: 12px; fill: rgb(0, 0, 0); fill-opacity: 1; white-space: pre;\">322</text></g></g></g><g class=\"annotation\" data-index=\"1\" style=\"opacity: 1;\"><g class=\"annotation-text-g\" transform=\"rotate(0,483.75,147.5)\"><g class=\"cursor-pointer\" transform=\"translate(474,138)\"><rect class=\"bg\" x=\"0.5\" y=\"0.5\" width=\"19\" height=\"18\" style=\"stroke-width: 1px; stroke: rgb(0, 0, 0); stroke-opacity: 0; fill: rgb(0, 0, 0); fill-opacity: 0;\"/><text class=\"annotation-text\" text-anchor=\"middle\" x=\"9.640625\" y=\"14\" style=\"font-family: 'Open Sans', verdana, arial, sans-serif; font-size: 12px; fill: rgb(255, 255, 255); fill-opacity: 1; white-space: pre;\">29</text></g></g></g><g class=\"annotation\" data-index=\"2\" style=\"opacity: 1;\"><g class=\"annotation-text-g\" transform=\"rotate(0,241.25,282.5)\"><g class=\"cursor-pointer\" transform=\"translate(231,273)\"><rect class=\"bg\" x=\"0.5\" y=\"0.5\" width=\"19\" height=\"18\" style=\"stroke-width: 1px; stroke: rgb(0, 0, 0); stroke-opacity: 0; fill: rgb(0, 0, 0); fill-opacity: 0;\"/><text class=\"annotation-text\" text-anchor=\"middle\" x=\"9.640625\" y=\"14\" style=\"font-family: 'Open Sans', verdana, arial, sans-serif; font-size: 12px; fill: rgb(255, 255, 255); fill-opacity: 1; white-space: pre;\">25</text></g></g></g><g class=\"annotation\" data-index=\"3\" style=\"opacity: 1;\"><g class=\"annotation-text-g\" transform=\"rotate(0,483.75,282.5)\"><g class=\"cursor-pointer\" transform=\"translate(474,273)\"><rect class=\"bg\" x=\"0.5\" y=\"0.5\" width=\"19\" height=\"18\" style=\"stroke-width: 1px; stroke: rgb(0, 0, 0); stroke-opacity: 0; fill: rgb(0, 0, 0); fill-opacity: 0;\"/><text class=\"annotation-text\" text-anchor=\"middle\" x=\"9.640625\" y=\"14\" style=\"font-family: 'Open Sans', verdana, arial, sans-serif; font-size: 12px; fill: rgb(255, 255, 255); fill-opacity: 1; white-space: pre;\">64</text></g></g></g><g class=\"annotation\" data-index=\"4\" style=\"opacity: 1;\"><g class=\"annotation-text-g\" transform=\"rotate(0,362.5,380)\"><g class=\"cursor-pointer\" transform=\"translate(309,370)\"><rect class=\"bg\" x=\"0.5\" y=\"0.5\" width=\"106\" height=\"20\" style=\"stroke-width: 1px; stroke: rgb(0, 0, 0); stroke-opacity: 0; fill: rgb(0, 0, 0); fill-opacity: 0;\"/><text class=\"annotation-text\" text-anchor=\"middle\" x=\"53.640625\" y=\"16\" style=\"font-family: 'Open Sans', verdana, arial, sans-serif; font-size: 14px; fill: rgb(0, 0, 0); fill-opacity: 1; white-space: pre;\">Predicted label</text></g></g></g><g class=\"annotation\" data-index=\"5\" style=\"opacity: 1;\"><g class=\"annotation-text-g\" transform=\"rotate(-90,57.75,215)\"><g class=\"cursor-pointer\" transform=\"translate(14,205)\"><rect class=\"bg\" x=\"0.5\" y=\"0.5\" width=\"86\" height=\"20\" style=\"stroke-width: 1px; stroke: rgb(0, 0, 0); stroke-opacity: 0; fill: rgb(0, 0, 0); fill-opacity: 0;\"/><text class=\"annotation-text\" text-anchor=\"middle\" x=\"43.796875\" y=\"16\" style=\"font-family: 'Open Sans', verdana, arial, sans-serif; font-size: 14px; fill: rgb(0, 0, 0); fill-opacity: 1; white-space: pre;\">Actual label</text></g></g></g></g></svg>"
      ]
     },
     "metadata": {},
     "output_type": "display_data"
    }
   ],
   "source": [
    "# sklearn has a very convenient utility to build confusion matrices\n",
    "from sklearn.metrics import confusion_matrix\n",
    "import plotly.figure_factory as ff\n",
    "\n",
    "# Calculate the model's accuracy on the TEST set\n",
    "actual = test.is_hiker\n",
    "predictions = model.predict(test[features])\n",
    "\n",
    "# Build and print our confusion matrix, using the actual values and predictions \n",
    "# from the test set, calculated in previous cells\n",
    "cm = confusion_matrix(actual, predictions, normalize=None)\n",
    "\n",
    "# Create the list of unique labels in the test set, to use in our plot\n",
    "# I.e., ['True', 'False',]\n",
    "unique_targets = sorted(list(test[\"is_hiker\"].unique()))\n",
    "\n",
    "# Convert values to lower case so the plot code can count the outcomes\n",
    "x = y = [str(s).lower() for s in unique_targets]\n",
    "\n",
    "# Plot the matrix above as a heatmap with annotations (values) in its cells\n",
    "fig = ff.create_annotated_heatmap(cm, x, y)\n",
    "\n",
    "# Set titles and ordering\n",
    "fig.update_layout(  title_text=\"<b>Confusion matrix</b>\", \n",
    "                    yaxis = dict(categoryorder = \"category descending\")\n",
    "                    )\n",
    "\n",
    "fig.add_annotation(dict(font=dict(color=\"black\",size=14),\n",
    "                        x=0.5,\n",
    "                        y=-0.15,\n",
    "                        showarrow=False,\n",
    "                        text=\"Predicted label\",\n",
    "                        xref=\"paper\",\n",
    "                        yref=\"paper\"))\n",
    "\n",
    "fig.add_annotation(dict(font=dict(color=\"black\",size=14),\n",
    "                        x=-0.15,\n",
    "                        y=0.5,\n",
    "                        showarrow=False,\n",
    "                        text=\"Actual label\",\n",
    "                        textangle=-90,\n",
    "                        xref=\"paper\",\n",
    "                        yref=\"paper\"))\n",
    "\n",
    "# We need margins so the titles fit\n",
    "fig.update_layout(margin=dict(t=80, r=20, l=120, b=50))\n",
    "fig['data'][0]['showscale'] = True\n",
    "fig.show()"
   ]
  },
  {
   "cell_type": "markdown",
   "metadata": {},
   "source": [
    "The confusion matrix shows us that, despite the reported metrics, the model is not incredibly precise.\n",
    "\n",
    "Out of the 660 samples present in the *test* set (30% of the total samples), it predicted `29` *false negatives* and `33` _false positives_.\n",
    "\n",
    "More importantly, look at the bottom row, which shows what happened when the model was shown information about a hiker: it got the answer wrong almost 30% of the time. This means it would not correctly identify almost 30% of the people on the mountain!  \n",
    "\n",
    "What happens if we used this model to make predictions on balanced sets?\n",
    "\n",
    "Let's load a dataset with an equal number of outcomes for \"hikers\" and \"non-hikers\", then use that data to make predictions:"
   ]
  },
  {
   "cell_type": "code",
   "execution_count": 8,
   "metadata": {},
   "outputs": [
    {
     "data": {
      "image/svg+xml": [
       "<svg class=\"main-svg\" xmlns=\"http://www.w3.org/2000/svg\" xmlns:xlink=\"http://www.w3.org/1999/xlink\" width=\"700\" height=\"400\" style=\"\" viewBox=\"0 0 700 400\"><rect x=\"0\" y=\"0\" width=\"700\" height=\"400\" style=\"fill: rgb(255, 255, 255); fill-opacity: 1;\"/><defs id=\"defs-842afc\"><g class=\"clips\"><clipPath id=\"clip842afcxyplot\" class=\"plotclip\"><rect width=\"547\" height=\"324\"/></clipPath><clipPath class=\"axesclip\" id=\"clip842afcx\"><rect x=\"54\" y=\"0\" width=\"547\" height=\"400\"/></clipPath><clipPath class=\"axesclip\" id=\"clip842afcy\"><rect x=\"0\" y=\"30\" width=\"700\" height=\"324\"/></clipPath><clipPath class=\"axesclip\" id=\"clip842afcxy\"><rect x=\"54\" y=\"30\" width=\"547\" height=\"324\"/></clipPath></g><g class=\"gradients\"/><g class=\"patterns\"/></defs><g class=\"bglayer\"/><g class=\"layer-below\"><g class=\"imagelayer\"/><g class=\"shapelayer\"/></g><g class=\"cartesianlayer\"><g class=\"subplot xy\"><g class=\"layer-subplot\"><g class=\"shapelayer\"/><g class=\"imagelayer\"/></g><g class=\"minor-gridlayer\"><g class=\"x\"/><g class=\"y\"/></g><g class=\"gridlayer\"><g class=\"x\"/><g class=\"y\"><path class=\"ygrid crisp\" transform=\"translate(0,292.44)\" d=\"M54,0h547\" style=\"stroke: rgb(235, 240, 248); stroke-opacity: 1; stroke-width: 1px;\"/><path class=\"ygrid crisp\" transform=\"translate(0,230.88)\" d=\"M54,0h547\" style=\"stroke: rgb(235, 240, 248); stroke-opacity: 1; stroke-width: 1px;\"/><path class=\"ygrid crisp\" transform=\"translate(0,169.32)\" d=\"M54,0h547\" style=\"stroke: rgb(235, 240, 248); stroke-opacity: 1; stroke-width: 1px;\"/><path class=\"ygrid crisp\" transform=\"translate(0,107.76)\" d=\"M54,0h547\" style=\"stroke: rgb(235, 240, 248); stroke-opacity: 1; stroke-width: 1px;\"/><path class=\"ygrid crisp\" transform=\"translate(0,46.2)\" d=\"M54,0h547\" style=\"stroke: rgb(235, 240, 248); stroke-opacity: 1; stroke-width: 1px;\"/></g></g><g class=\"zerolinelayer\"><path class=\"yzl zl crisp\" transform=\"translate(0,354)\" d=\"M54,0h547\" style=\"stroke: rgb(235, 240, 248); stroke-opacity: 1; stroke-width: 2px;\"/></g><path class=\"xlines-below\"/><path class=\"ylines-below\"/><g class=\"overlines-below\"/><g class=\"xaxislayer-below\"/><g class=\"yaxislayer-below\"/><g class=\"overaxes-below\"/><g class=\"plot\" transform=\"translate(54,30)\" clip-path=\"url(#clip842afcxyplot)\"><g class=\"barlayer mlayer\"><g class=\"trace bars\" style=\"opacity: 1;\"><g class=\"points\"><g class=\"point\"><path d=\"M13.67,324V16.2H123.08V324Z\" style=\"vector-effect: none; opacity: 1; stroke-width: 1px; fill: rgb(99, 110, 250); fill-opacity: 1; stroke: rgb(68, 68, 68); stroke-opacity: 1;\"/></g></g></g><g class=\"trace bars\" style=\"opacity: 1;\"><g class=\"points\"><g class=\"point\"><path d=\"M150.43,324V16.2H259.83V324Z\" style=\"vector-effect: none; opacity: 1; stroke-width: 1px; fill: rgb(239, 85, 59); fill-opacity: 1; stroke: rgb(68, 68, 68); stroke-opacity: 1;\"/></g></g></g><g class=\"trace bars\" style=\"opacity: 1;\"><g class=\"points\"><g class=\"point\"><path d=\"M287.18,324V16.2H396.58V324Z\" style=\"vector-effect: none; opacity: 1; stroke-width: 1px; fill: rgb(0, 204, 150); fill-opacity: 1; stroke: rgb(68, 68, 68); stroke-opacity: 1;\"/></g></g></g><g class=\"trace bars\" style=\"opacity: 1;\"><g class=\"points\"><g class=\"point\"><path d=\"M423.93,324V16.2H533.33V324Z\" style=\"vector-effect: none; opacity: 1; stroke-width: 1px; fill: rgb(171, 99, 250); fill-opacity: 1; stroke: rgb(68, 68, 68); stroke-opacity: 1;\"/></g></g></g></g></g><g class=\"overplot\"/><path class=\"xlines-above crisp\" d=\"M52,355H601\" style=\"fill: none; stroke-width: 2px; stroke: rgb(235, 240, 248); stroke-opacity: 1;\"/><path class=\"ylines-above crisp\" d=\"M53,30V354\" style=\"fill: none; stroke-width: 2px; stroke: rgb(235, 240, 248); stroke-opacity: 1;\"/><g class=\"overlines-above\"/><g class=\"xaxislayer-above\"><g class=\"xtick\"><text text-anchor=\"middle\" x=\"0\" y=\"370.4\" transform=\"translate(122.38,0)\" style=\"font-family: 'Open Sans', verdana, arial, sans-serif; font-size: 12px; fill: rgb(42, 63, 95); fill-opacity: 1; white-space: pre; opacity: 1;\">animal</text></g><g class=\"xtick\"><text text-anchor=\"middle\" x=\"0\" y=\"370.4\" transform=\"translate(259.13,0)\" style=\"font-family: 'Open Sans', verdana, arial, sans-serif; font-size: 12px; fill: rgb(42, 63, 95); fill-opacity: 1; white-space: pre; opacity: 1;\">hiker</text></g><g class=\"xtick\"><text text-anchor=\"middle\" x=\"0\" y=\"370.4\" transform=\"translate(395.88,0)\" style=\"font-family: 'Open Sans', verdana, arial, sans-serif; font-size: 12px; fill: rgb(42, 63, 95); fill-opacity: 1; white-space: pre; opacity: 1;\">rock</text></g><g class=\"xtick\"><text text-anchor=\"middle\" x=\"0\" y=\"370.4\" transform=\"translate(532.63,0)\" style=\"font-family: 'Open Sans', verdana, arial, sans-serif; font-size: 12px; fill: rgb(42, 63, 95); fill-opacity: 1; white-space: pre; opacity: 1;\">tree</text></g></g><g class=\"yaxislayer-above\"><g class=\"ytick\"><text text-anchor=\"end\" x=\"49.6\" y=\"4.199999999999999\" transform=\"translate(0,354)\" style=\"font-family: 'Open Sans', verdana, arial, sans-serif; font-size: 12px; fill: rgb(42, 63, 95); fill-opacity: 1; white-space: pre; opacity: 1;\">0</text></g><g class=\"ytick\"><text text-anchor=\"end\" x=\"49.6\" y=\"4.199999999999999\" style=\"font-family: 'Open Sans', verdana, arial, sans-serif; font-size: 12px; fill: rgb(42, 63, 95); fill-opacity: 1; white-space: pre; opacity: 1;\" transform=\"translate(0,292.44)\">100</text></g><g class=\"ytick\"><text text-anchor=\"end\" x=\"49.6\" y=\"4.199999999999999\" style=\"font-family: 'Open Sans', verdana, arial, sans-serif; font-size: 12px; fill: rgb(42, 63, 95); fill-opacity: 1; white-space: pre; opacity: 1;\" transform=\"translate(0,230.88)\">200</text></g><g class=\"ytick\"><text text-anchor=\"end\" x=\"49.6\" y=\"4.199999999999999\" style=\"font-family: 'Open Sans', verdana, arial, sans-serif; font-size: 12px; fill: rgb(42, 63, 95); fill-opacity: 1; white-space: pre; opacity: 1;\" transform=\"translate(0,169.32)\">300</text></g><g class=\"ytick\"><text text-anchor=\"end\" x=\"49.6\" y=\"4.199999999999999\" style=\"font-family: 'Open Sans', verdana, arial, sans-serif; font-size: 12px; fill: rgb(42, 63, 95); fill-opacity: 1; white-space: pre; opacity: 1;\" transform=\"translate(0,107.76)\">400</text></g><g class=\"ytick\"><text text-anchor=\"end\" x=\"49.6\" y=\"4.199999999999999\" style=\"font-family: 'Open Sans', verdana, arial, sans-serif; font-size: 12px; fill: rgb(42, 63, 95); fill-opacity: 1; white-space: pre; opacity: 1;\" transform=\"translate(0,46.2)\">500</text></g></g><g class=\"overaxes-above\"/></g></g><g class=\"polarlayer\"/><g class=\"smithlayer\"/><g class=\"ternarylayer\"/><g class=\"geolayer\"/><g class=\"funnelarealayer\"/><g class=\"pielayer\"/><g class=\"iciclelayer\"/><g class=\"treemaplayer\"/><g class=\"sunburstlayer\"/><g class=\"glimages\"/><defs id=\"topdefs-842afc\"><g class=\"clips\"/><clipPath id=\"legend842afc\"><rect width=\"86\" height=\"105\" x=\"0\" y=\"0\"/></clipPath></defs><g class=\"layer-above\"><g class=\"imagelayer\"/><g class=\"shapelayer\"/></g><g class=\"infolayer\"><g class=\"legend\" pointer-events=\"all\" transform=\"translate(611.94,30)\"><rect class=\"bg\" shape-rendering=\"crispEdges\" width=\"86\" height=\"105\" x=\"0\" y=\"0\" style=\"stroke: rgb(68, 68, 68); stroke-opacity: 1; fill: rgb(255, 255, 255); fill-opacity: 1; stroke-width: 0px;\"/><g class=\"scrollbox\" transform=\"\" clip-path=\"url(#legend842afc)\"><text class=\"legendtitletext\" text-anchor=\"start\" x=\"2\" y=\"18.2\" style=\"font-family: 'Open Sans', verdana, arial, sans-serif; font-size: 14px; fill: rgb(42, 63, 95); fill-opacity: 1; white-space: pre;\">label</text><g class=\"groups\"><g class=\"traces\" transform=\"translate(0,32.7)\" style=\"opacity: 1;\"><text class=\"legendtext\" text-anchor=\"start\" x=\"40\" y=\"4.680000000000001\" style=\"font-family: 'Open Sans', verdana, arial, sans-serif; font-size: 12px; fill: rgb(42, 63, 95); fill-opacity: 1; white-space: pre;\">animal</text><g class=\"layers\" style=\"opacity: 1;\"><g class=\"legendfill\"/><g class=\"legendlines\"/><g class=\"legendsymbols\"><g class=\"legendpoints\"><path class=\"legendundefined\" d=\"M6,6H-6V-6H6Z\" transform=\"translate(20,0)\" style=\"stroke-width: 1px; fill: rgb(99, 110, 250); fill-opacity: 1; stroke: rgb(68, 68, 68); stroke-opacity: 1;\"/></g></g></g><rect class=\"legendtoggle\" x=\"0\" y=\"-9.5\" width=\"80.265625\" height=\"19\" style=\"fill: rgb(0, 0, 0); fill-opacity: 0;\"/></g><g class=\"traces\" transform=\"translate(0,51.7)\" style=\"opacity: 1;\"><text class=\"legendtext\" text-anchor=\"start\" x=\"40\" y=\"4.680000000000001\" style=\"font-family: 'Open Sans', verdana, arial, sans-serif; font-size: 12px; fill: rgb(42, 63, 95); fill-opacity: 1; white-space: pre;\">hiker</text><g class=\"layers\" style=\"opacity: 1;\"><g class=\"legendfill\"/><g class=\"legendlines\"/><g class=\"legendsymbols\"><g class=\"legendpoints\"><path class=\"legendundefined\" d=\"M6,6H-6V-6H6Z\" transform=\"translate(20,0)\" style=\"stroke-width: 1px; fill: rgb(239, 85, 59); fill-opacity: 1; stroke: rgb(68, 68, 68); stroke-opacity: 1;\"/></g></g></g><rect class=\"legendtoggle\" x=\"0\" y=\"-9.5\" width=\"80.265625\" height=\"19\" style=\"fill: rgb(0, 0, 0); fill-opacity: 0;\"/></g><g class=\"traces\" transform=\"translate(0,70.7)\" style=\"opacity: 1;\"><text class=\"legendtext\" text-anchor=\"start\" x=\"40\" y=\"4.680000000000001\" style=\"font-family: 'Open Sans', verdana, arial, sans-serif; font-size: 12px; fill: rgb(42, 63, 95); fill-opacity: 1; white-space: pre;\">rock</text><g class=\"layers\" style=\"opacity: 1;\"><g class=\"legendfill\"/><g class=\"legendlines\"/><g class=\"legendsymbols\"><g class=\"legendpoints\"><path class=\"legendundefined\" d=\"M6,6H-6V-6H6Z\" transform=\"translate(20,0)\" style=\"stroke-width: 1px; fill: rgb(0, 204, 150); fill-opacity: 1; stroke: rgb(68, 68, 68); stroke-opacity: 1;\"/></g></g></g><rect class=\"legendtoggle\" x=\"0\" y=\"-9.5\" width=\"80.265625\" height=\"19\" style=\"fill: rgb(0, 0, 0); fill-opacity: 0;\"/></g><g class=\"traces\" transform=\"translate(0,89.7)\" style=\"opacity: 1;\"><text class=\"legendtext\" text-anchor=\"start\" x=\"40\" y=\"4.680000000000001\" style=\"font-family: 'Open Sans', verdana, arial, sans-serif; font-size: 12px; fill: rgb(42, 63, 95); fill-opacity: 1; white-space: pre;\">tree</text><g class=\"layers\" style=\"opacity: 1;\"><g class=\"legendfill\"/><g class=\"legendlines\"/><g class=\"legendsymbols\"><g class=\"legendpoints\"><path class=\"legendundefined\" d=\"M6,6H-6V-6H6Z\" transform=\"translate(20,0)\" style=\"stroke-width: 1px; fill: rgb(171, 99, 250); fill-opacity: 1; stroke: rgb(68, 68, 68); stroke-opacity: 1;\"/></g></g></g><rect class=\"legendtoggle\" x=\"0\" y=\"-9.5\" width=\"80.265625\" height=\"19\" style=\"fill: rgb(0, 0, 0); fill-opacity: 0;\"/></g></g></g><rect class=\"scrollbar\" rx=\"20\" ry=\"3\" width=\"0\" height=\"0\" x=\"0\" y=\"0\" style=\"fill: rgb(128, 139, 164); fill-opacity: 1;\"/></g><g class=\"g-gtitle\"><text class=\"gtitle\" x=\"350\" y=\"15\" text-anchor=\"middle\" dy=\"0em\" style=\"font-family: 'Open Sans', verdana, arial, sans-serif; font-size: 17px; fill: rgb(42, 63, 95); opacity: 1; font-weight: normal; white-space: pre;\">Label distribution</text></g><g class=\"g-xtitle\" transform=\"translate(0,-0.20625000000001137)\"><text class=\"xtitle\" x=\"327.5\" y=\"397.20625\" text-anchor=\"middle\" style=\"font-family: 'Open Sans', verdana, arial, sans-serif; font-size: 14px; fill: rgb(42, 63, 95); opacity: 1; font-weight: normal; white-space: pre;\">label</text></g><g class=\"g-ytitle\" transform=\"translate(11.0966796875,0)\"><text class=\"ytitle\" transform=\"rotate(-90,2.903125000000003,192)\" x=\"2.903125000000003\" y=\"192\" text-anchor=\"middle\" style=\"font-family: 'Open Sans', verdana, arial, sans-serif; font-size: 14px; fill: rgb(42, 63, 95); opacity: 1; font-weight: normal; white-space: pre;\">count</text></g></g></svg>"
      ]
     },
     "metadata": {},
     "output_type": "display_data"
    }
   ],
   "source": [
    "# Load and print umbiased set\n",
    "#Import the data from the .csv file\n",
    "balanced_dataset = pd.read_csv('snow_obj_balanced.csv', delimiter=\"\\t\")\n",
    "\n",
    "#Let's have a look at the data\n",
    "graphing.multiple_histogram(balanced_dataset, label_x=\"label\", label_group=\"label\", title=\"Label distribution\")"
   ]
  },
  {
   "cell_type": "code",
   "execution_count": 9,
   "metadata": {},
   "outputs": [
    {
     "name": "stdout",
     "output_type": "stream",
     "text": [
      "          size  roughness   color    motion  label  is_hiker\n",
      "1000  1.758147   0.578384   green  1.979197  hiker      True\n",
      "1001  2.138218   1.096874  orange  2.103307  hiker      True\n",
      "1002  1.729903   1.213756   brown  2.139579  hiker      True\n",
      "1003  1.614283   0.889785   green  1.402956  hiker      True\n",
      "1004  2.202475   0.933503   brown  2.337197  hiker      True\n"
     ]
    },
    {
     "data": {
      "image/svg+xml": [
       "<svg class=\"main-svg\" xmlns=\"http://www.w3.org/2000/svg\" xmlns:xlink=\"http://www.w3.org/1999/xlink\" width=\"700\" height=\"400\" style=\"\" viewBox=\"0 0 700 400\"><rect x=\"0\" y=\"0\" width=\"700\" height=\"400\" style=\"fill: rgb(255, 255, 255); fill-opacity: 1;\"/><defs id=\"defs-54e12b\"><g class=\"clips\"><clipPath id=\"clip54e12bxyplot\" class=\"plotclip\"><rect width=\"557\" height=\"324\"/></clipPath><clipPath class=\"axesclip\" id=\"clip54e12bx\"><rect x=\"54\" y=\"0\" width=\"557\" height=\"400\"/></clipPath><clipPath class=\"axesclip\" id=\"clip54e12by\"><rect x=\"0\" y=\"30\" width=\"700\" height=\"324\"/></clipPath><clipPath class=\"axesclip\" id=\"clip54e12bxy\"><rect x=\"54\" y=\"30\" width=\"557\" height=\"324\"/></clipPath></g><g class=\"gradients\"/><g class=\"patterns\"/></defs><g class=\"bglayer\"/><g class=\"layer-below\"><g class=\"imagelayer\"/><g class=\"shapelayer\"/></g><g class=\"cartesianlayer\"><g class=\"subplot xy\"><g class=\"layer-subplot\"><g class=\"shapelayer\"/><g class=\"imagelayer\"/></g><g class=\"minor-gridlayer\"><g class=\"x\"/><g class=\"y\"/></g><g class=\"gridlayer\"><g class=\"x\"/><g class=\"y\"><path class=\"ygrid crisp\" transform=\"translate(0,292.44)\" d=\"M54,0h557\" style=\"stroke: rgb(235, 240, 248); stroke-opacity: 1; stroke-width: 1px;\"/><path class=\"ygrid crisp\" transform=\"translate(0,230.88)\" d=\"M54,0h557\" style=\"stroke: rgb(235, 240, 248); stroke-opacity: 1; stroke-width: 1px;\"/><path class=\"ygrid crisp\" transform=\"translate(0,169.32)\" d=\"M54,0h557\" style=\"stroke: rgb(235, 240, 248); stroke-opacity: 1; stroke-width: 1px;\"/><path class=\"ygrid crisp\" transform=\"translate(0,107.76)\" d=\"M54,0h557\" style=\"stroke: rgb(235, 240, 248); stroke-opacity: 1; stroke-width: 1px;\"/><path class=\"ygrid crisp\" transform=\"translate(0,46.2)\" d=\"M54,0h557\" style=\"stroke: rgb(235, 240, 248); stroke-opacity: 1; stroke-width: 1px;\"/></g></g><g class=\"zerolinelayer\"><path class=\"yzl zl crisp\" transform=\"translate(0,354)\" d=\"M54,0h557\" style=\"stroke: rgb(235, 240, 248); stroke-opacity: 1; stroke-width: 2px;\"/></g><path class=\"xlines-below\"/><path class=\"ylines-below\"/><g class=\"overlines-below\"/><g class=\"xaxislayer-below\"/><g class=\"yaxislayer-below\"/><g class=\"overaxes-below\"/><g class=\"plot\" transform=\"translate(54,30)\" clip-path=\"url(#clip54e12bxyplot)\"><g class=\"barlayer mlayer\"><g class=\"trace bars\" style=\"opacity: 1;\"><g class=\"points\"><g class=\"point\"><path d=\"M27.85,324V16.2H250.65V324Z\" style=\"vector-effect: none; opacity: 1; stroke-width: 1px; fill: rgb(99, 110, 250); fill-opacity: 1; stroke: rgb(68, 68, 68); stroke-opacity: 1;\"/></g></g></g><g class=\"trace bars\" style=\"opacity: 1;\"><g class=\"points\"><g class=\"point\"><path d=\"M306.35,324V16.2H529.15V324Z\" style=\"vector-effect: none; opacity: 1; stroke-width: 1px; fill: rgb(239, 85, 59); fill-opacity: 1; stroke: rgb(68, 68, 68); stroke-opacity: 1;\"/></g></g></g></g></g><g class=\"overplot\"/><path class=\"xlines-above crisp\" d=\"M52,355H611\" style=\"fill: none; stroke-width: 2px; stroke: rgb(235, 240, 248); stroke-opacity: 1;\"/><path class=\"ylines-above crisp\" d=\"M53,30V354\" style=\"fill: none; stroke-width: 2px; stroke: rgb(235, 240, 248); stroke-opacity: 1;\"/><g class=\"overlines-above\"/><g class=\"xaxislayer-above\"><g class=\"xtick\"><text text-anchor=\"middle\" x=\"0\" y=\"370.4\" transform=\"translate(193.25,0)\" style=\"font-family: 'Open Sans', verdana, arial, sans-serif; font-size: 12px; fill: rgb(42, 63, 95); fill-opacity: 1; white-space: pre; opacity: 1;\">false</text></g><g class=\"xtick\"><text text-anchor=\"middle\" x=\"0\" y=\"370.4\" transform=\"translate(471.75,0)\" style=\"font-family: 'Open Sans', verdana, arial, sans-serif; font-size: 12px; fill: rgb(42, 63, 95); fill-opacity: 1; white-space: pre; opacity: 1;\">true</text></g></g><g class=\"yaxislayer-above\"><g class=\"ytick\"><text text-anchor=\"end\" x=\"49.6\" y=\"4.199999999999999\" transform=\"translate(0,354)\" style=\"font-family: 'Open Sans', verdana, arial, sans-serif; font-size: 12px; fill: rgb(42, 63, 95); fill-opacity: 1; white-space: pre; opacity: 1;\">0</text></g><g class=\"ytick\"><text text-anchor=\"end\" x=\"49.6\" y=\"4.199999999999999\" style=\"font-family: 'Open Sans', verdana, arial, sans-serif; font-size: 12px; fill: rgb(42, 63, 95); fill-opacity: 1; white-space: pre; opacity: 1;\" transform=\"translate(0,292.44)\">100</text></g><g class=\"ytick\"><text text-anchor=\"end\" x=\"49.6\" y=\"4.199999999999999\" style=\"font-family: 'Open Sans', verdana, arial, sans-serif; font-size: 12px; fill: rgb(42, 63, 95); fill-opacity: 1; white-space: pre; opacity: 1;\" transform=\"translate(0,230.88)\">200</text></g><g class=\"ytick\"><text text-anchor=\"end\" x=\"49.6\" y=\"4.199999999999999\" style=\"font-family: 'Open Sans', verdana, arial, sans-serif; font-size: 12px; fill: rgb(42, 63, 95); fill-opacity: 1; white-space: pre; opacity: 1;\" transform=\"translate(0,169.32)\">300</text></g><g class=\"ytick\"><text text-anchor=\"end\" x=\"49.6\" y=\"4.199999999999999\" style=\"font-family: 'Open Sans', verdana, arial, sans-serif; font-size: 12px; fill: rgb(42, 63, 95); fill-opacity: 1; white-space: pre; opacity: 1;\" transform=\"translate(0,107.76)\">400</text></g><g class=\"ytick\"><text text-anchor=\"end\" x=\"49.6\" y=\"4.199999999999999\" style=\"font-family: 'Open Sans', verdana, arial, sans-serif; font-size: 12px; fill: rgb(42, 63, 95); fill-opacity: 1; white-space: pre; opacity: 1;\" transform=\"translate(0,46.2)\">500</text></g></g><g class=\"overaxes-above\"/></g></g><g class=\"polarlayer\"/><g class=\"smithlayer\"/><g class=\"ternarylayer\"/><g class=\"geolayer\"/><g class=\"funnelarealayer\"/><g class=\"pielayer\"/><g class=\"iciclelayer\"/><g class=\"treemaplayer\"/><g class=\"sunburstlayer\"/><g class=\"glimages\"/><defs id=\"topdefs-54e12b\"><g class=\"clips\"/><clipPath id=\"legend54e12b\"><rect width=\"76\" height=\"67\" x=\"0\" y=\"0\"/></clipPath></defs><g class=\"layer-above\"><g class=\"imagelayer\"/><g class=\"shapelayer\"/></g><g class=\"infolayer\"><g class=\"legend\" pointer-events=\"all\" transform=\"translate(622.14,30)\"><rect class=\"bg\" shape-rendering=\"crispEdges\" width=\"76\" height=\"67\" x=\"0\" y=\"0\" style=\"stroke: rgb(68, 68, 68); stroke-opacity: 1; fill: rgb(255, 255, 255); fill-opacity: 1; stroke-width: 0px;\"/><g class=\"scrollbox\" transform=\"\" clip-path=\"url(#legend54e12b)\"><text class=\"legendtitletext\" text-anchor=\"start\" x=\"2\" y=\"18.2\" style=\"font-family: 'Open Sans', verdana, arial, sans-serif; font-size: 14px; fill: rgb(42, 63, 95); fill-opacity: 1; white-space: pre;\">is_hiker</text><g class=\"groups\"><g class=\"traces\" transform=\"translate(0,32.7)\" style=\"opacity: 1;\"><text class=\"legendtext\" text-anchor=\"start\" x=\"40\" y=\"4.680000000000001\" style=\"font-family: 'Open Sans', verdana, arial, sans-serif; font-size: 12px; fill: rgb(42, 63, 95); fill-opacity: 1; white-space: pre;\">False</text><g class=\"layers\" style=\"opacity: 1;\"><g class=\"legendfill\"/><g class=\"legendlines\"/><g class=\"legendsymbols\"><g class=\"legendpoints\"><path class=\"legendundefined\" d=\"M6,6H-6V-6H6Z\" transform=\"translate(20,0)\" style=\"stroke-width: 1px; fill: rgb(99, 110, 250); fill-opacity: 1; stroke: rgb(68, 68, 68); stroke-opacity: 1;\"/></g></g></g><rect class=\"legendtoggle\" x=\"0\" y=\"-9.5\" width=\"70.21875\" height=\"19\" style=\"fill: rgb(0, 0, 0); fill-opacity: 0;\"/></g><g class=\"traces\" transform=\"translate(0,51.7)\" style=\"opacity: 1;\"><text class=\"legendtext\" text-anchor=\"start\" x=\"40\" y=\"4.680000000000001\" style=\"font-family: 'Open Sans', verdana, arial, sans-serif; font-size: 12px; fill: rgb(42, 63, 95); fill-opacity: 1; white-space: pre;\">True</text><g class=\"layers\" style=\"opacity: 1;\"><g class=\"legendfill\"/><g class=\"legendlines\"/><g class=\"legendsymbols\"><g class=\"legendpoints\"><path class=\"legendundefined\" d=\"M6,6H-6V-6H6Z\" transform=\"translate(20,0)\" style=\"stroke-width: 1px; fill: rgb(239, 85, 59); fill-opacity: 1; stroke: rgb(68, 68, 68); stroke-opacity: 1;\"/></g></g></g><rect class=\"legendtoggle\" x=\"0\" y=\"-9.5\" width=\"70.21875\" height=\"19\" style=\"fill: rgb(0, 0, 0); fill-opacity: 0;\"/></g></g></g><rect class=\"scrollbar\" rx=\"20\" ry=\"3\" width=\"0\" height=\"0\" x=\"0\" y=\"0\" style=\"fill: rgb(128, 139, 164); fill-opacity: 1;\"/></g><g class=\"g-gtitle\"><text class=\"gtitle\" x=\"350\" y=\"15\" text-anchor=\"middle\" dy=\"0em\" style=\"font-family: 'Open Sans', verdana, arial, sans-serif; font-size: 17px; fill: rgb(42, 63, 95); opacity: 1; font-weight: normal; white-space: pre;\">Label distribution in balanced dataset</text></g><g class=\"g-xtitle\" transform=\"translate(0,-0.20625000000001137)\"><text class=\"xtitle\" x=\"332.5\" y=\"397.20625\" text-anchor=\"middle\" style=\"font-family: 'Open Sans', verdana, arial, sans-serif; font-size: 14px; fill: rgb(42, 63, 95); opacity: 1; font-weight: normal; white-space: pre;\">is hiker</text></g><g class=\"g-ytitle\" transform=\"translate(11.0966796875,0)\"><text class=\"ytitle\" transform=\"rotate(-90,2.903125000000003,192)\" x=\"2.903125000000003\" y=\"192\" text-anchor=\"middle\" style=\"font-family: 'Open Sans', verdana, arial, sans-serif; font-size: 14px; fill: rgb(42, 63, 95); opacity: 1; font-weight: normal; white-space: pre;\">count</text></g></g></svg>"
      ]
     },
     "metadata": {},
     "output_type": "display_data"
    }
   ],
   "source": [
    "# Add a new label with true/false values to our dataset\n",
    "balanced_dataset[\"is_hiker\"] = balanced_dataset.label == \"hiker\"\n",
    "\n",
    "hikers_dataset = balanced_dataset[balanced_dataset[\"is_hiker\"] == 1] \n",
    "nonhikers_dataset = balanced_dataset[balanced_dataset[\"is_hiker\"] == False] \n",
    "# take a random sampling of non-hikers the same size as the hikers subset\n",
    "nonhikers_dataset = nonhikers_dataset.sample(n=len(hikers_dataset.index), random_state=1)\n",
    "balanced_dataset = pd.concat([hikers_dataset, nonhikers_dataset])\n",
    "\n",
    "print(balanced_dataset.head())\n",
    "\n",
    "# Plot frequency for \"is_hiker\" labels\n",
    "graphing.multiple_histogram(balanced_dataset, label_x=\"is_hiker\", label_group=\"is_hiker\", title=\"Label distribution in balanced dataset\")"
   ]
  },
  {
   "cell_type": "code",
   "execution_count": 10,
   "metadata": {},
   "outputs": [
    {
     "name": "stdout",
     "output_type": "stream",
     "text": [
      "Balanced set accuracy: 0.742\n"
     ]
    }
   ],
   "source": [
    "# Test the model using a balanced dataset\n",
    "actual = balanced_dataset.is_hiker\n",
    "predictions = model.predict(balanced_dataset[features])\n",
    "\n",
    "# Build and print our confusion matrix, using the actual values and predictions \n",
    "# from the test set, calculated in previous cells\n",
    "cm = confusion_matrix(actual, predictions, normalize=None)\n",
    "\n",
    "# Print accuracy using this set\n",
    "print(\"Balanced set accuracy:\", assess_accuracy(model,balanced_dataset, \"is_hiker\"))"
   ]
  },
  {
   "cell_type": "code",
   "execution_count": 11,
   "metadata": {},
   "outputs": [
    {
     "data": {
      "image/svg+xml": [
       "<svg class=\"main-svg\" xmlns=\"http://www.w3.org/2000/svg\" xmlns:xlink=\"http://www.w3.org/1999/xlink\" width=\"700\" height=\"400\" style=\"\" viewBox=\"0 0 700 400\"><rect x=\"0\" y=\"0\" width=\"700\" height=\"400\" style=\"fill: rgb(255, 255, 255); fill-opacity: 1;\"/><defs id=\"defs-cf2e58\"><g class=\"clips\"><clipPath id=\"clipcf2e58xyplot\" class=\"plotclip\"><rect width=\"485\" height=\"270\"/></clipPath><clipPath class=\"axesclip\" id=\"clipcf2e58x\"><rect x=\"120\" y=\"0\" width=\"485\" height=\"400\"/></clipPath><clipPath class=\"axesclip\" id=\"clipcf2e58y\"><rect x=\"0\" y=\"80\" width=\"700\" height=\"270\"/></clipPath><clipPath class=\"axesclip\" id=\"clipcf2e58xy\"><rect x=\"120\" y=\"80\" width=\"485\" height=\"270\"/></clipPath></g><g class=\"gradients\"><linearGradient x1=\"0\" x2=\"0\" y1=\"1\" y2=\"0\" id=\"gcf2e58-cb2751d4\"><stop offset=\"0%\" stop-color=\"rgb(13, 8, 135)\" stop-opacity=\"1\"/><stop offset=\"11.111111%\" stop-color=\"rgb(70, 3, 159)\" stop-opacity=\"1\"/><stop offset=\"22.222222%\" stop-color=\"rgb(114, 1, 168)\" stop-opacity=\"1\"/><stop offset=\"33.333333%\" stop-color=\"rgb(156, 23, 158)\" stop-opacity=\"1\"/><stop offset=\"44.444444%\" stop-color=\"rgb(189, 55, 134)\" stop-opacity=\"1\"/><stop offset=\"55.555556%\" stop-color=\"rgb(216, 87, 107)\" stop-opacity=\"1\"/><stop offset=\"66.666667%\" stop-color=\"rgb(237, 121, 83)\" stop-opacity=\"1\"/><stop offset=\"77.777778%\" stop-color=\"rgb(251, 159, 58)\" stop-opacity=\"1\"/><stop offset=\"88.888889%\" stop-color=\"rgb(253, 202, 38)\" stop-opacity=\"1\"/><stop offset=\"100%\" stop-color=\"rgb(240, 249, 33)\" stop-opacity=\"1\"/></linearGradient></g><g class=\"patterns\"/></defs><g class=\"bglayer\"/><g class=\"layer-below\"><g class=\"imagelayer\"/><g class=\"shapelayer\"/></g><g class=\"cartesianlayer\"><g class=\"subplot xy\"><g class=\"layer-subplot\"><g class=\"shapelayer\"/><g class=\"imagelayer\"/></g><g class=\"minor-gridlayer\"><g class=\"x\"/><g class=\"y\"/></g><g class=\"gridlayer\"><g class=\"x\"><path class=\"xgrid crisp\" transform=\"translate(241.25,0)\" d=\"M0,80v270\" style=\"stroke: rgb(0, 0, 0); stroke-opacity: 1; stroke-width: 1px;\"/><path class=\"xgrid crisp\" transform=\"translate(483.75,0)\" d=\"M0,80v270\" style=\"stroke: rgb(0, 0, 0); stroke-opacity: 1; stroke-width: 1px;\"/></g><g class=\"y\"><path class=\"ygrid crisp\" transform=\"translate(0,282.5)\" d=\"M120,0h485\" style=\"stroke: rgb(235, 240, 248); stroke-opacity: 1; stroke-width: 1px;\"/><path class=\"ygrid crisp\" transform=\"translate(0,147.5)\" d=\"M120,0h485\" style=\"stroke: rgb(235, 240, 248); stroke-opacity: 1; stroke-width: 1px;\"/></g></g><g class=\"zerolinelayer\"/><path class=\"xlines-below\"/><path class=\"ylines-below\"/><g class=\"overlines-below\"/><g class=\"xaxislayer-below\"/><g class=\"yaxislayer-below\"/><g class=\"overaxes-below\"/><g class=\"plot\" transform=\"translate(120,80)\" clip-path=\"url(#clipcf2e58xyplot)\"><g class=\"heatmaplayer mlayer\"><g class=\"hm\"><image xmlns=\"http://www.w3.org/2000/svg\" preserveAspectRatio=\"none\" height=\"270\" width=\"485\" x=\"0\" y=\"0\" xlink:href=\"data:image/png;base64,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\" style=\"opacity: 1;\"/></g></g></g><g class=\"overplot\"/><path class=\"xlines-above crisp\" d=\"M118,79H605\" style=\"fill: none; stroke-width: 2px; stroke: rgb(235, 240, 248); stroke-opacity: 1;\"/><path class=\"ylines-above crisp\" d=\"M119,80V350\" style=\"fill: none; stroke-width: 2px; stroke: rgb(235, 240, 248); stroke-opacity: 1;\"/><g class=\"overlines-above\"/><g class=\"xaxislayer-above\"><g class=\"xtick\"><text text-anchor=\"middle\" x=\"0\" y=\"73.19999999999999\" transform=\"translate(241.25,0)\" style=\"font-family: 'Open Sans', verdana, arial, sans-serif; font-size: 12px; fill: rgb(42, 63, 95); fill-opacity: 1; white-space: pre; opacity: 1;\">false</text></g><g class=\"xtick\"><text text-anchor=\"middle\" x=\"0\" y=\"73.19999999999999\" transform=\"translate(483.75,0)\" style=\"font-family: 'Open Sans', verdana, arial, sans-serif; font-size: 12px; fill: rgb(42, 63, 95); fill-opacity: 1; white-space: pre; opacity: 1;\">true</text></g></g><g class=\"yaxislayer-above\"><g class=\"ytick\"><text text-anchor=\"end\" x=\"115.6\" y=\"4.199999999999999\" transform=\"translate(0,282.5)\" style=\"font-family: 'Open Sans', verdana, arial, sans-serif; font-size: 12px; fill: rgb(42, 63, 95); fill-opacity: 1; white-space: pre; opacity: 1;\">true  </text></g><g class=\"ytick\"><text text-anchor=\"end\" x=\"115.6\" y=\"4.199999999999999\" transform=\"translate(0,147.5)\" style=\"font-family: 'Open Sans', verdana, arial, sans-serif; font-size: 12px; fill: rgb(42, 63, 95); fill-opacity: 1; white-space: pre; opacity: 1;\">false  </text></g></g><g class=\"overaxes-above\"/></g></g><g class=\"polarlayer\"/><g class=\"smithlayer\"/><g class=\"ternarylayer\"/><g class=\"geolayer\"/><g class=\"funnelarealayer\"/><g class=\"pielayer\"/><g class=\"iciclelayer\"/><g class=\"treemaplayer\"/><g class=\"sunburstlayer\"/><g class=\"glimages\"/><defs id=\"topdefs-cf2e58\"><g class=\"clips\"/></defs><g class=\"layer-above\"><g class=\"imagelayer\"/><g class=\"shapelayer\"/></g><g class=\"infolayer\"><g class=\"cb2751d4 colorbar\" transform=\"translate(120,80)\"><rect class=\"cbbg\" x=\"495\" y=\"0\" width=\"73.28125\" height=\"270\" style=\"fill: rgb(0, 0, 0); fill-opacity: 0; stroke: rgb(68, 68, 68); stroke-opacity: 1; stroke-width: 0;\"/><g class=\"cbfills\" transform=\"translate(0,10)\"><rect class=\"cbfill gradient_filled\" x=\"505\" y=\"0\" width=\"30\" height=\"250\" style=\"fill: url('#gcf2e58-cb2751d4');\"/></g><g class=\"cblines\" transform=\"translate(0,10)\"/><g class=\"cbaxis crisp\" transform=\"translate(0,-80)\"><g class=\"ycb2751d4tick\"><text text-anchor=\"start\" x=\"537.9\" y=\"4.199999999999999\" transform=\"translate(0,330.74)\" style=\"font-family: 'Open Sans', verdana, arial, sans-serif; font-size: 12px; fill: rgb(42, 63, 95); fill-opacity: 1; white-space: pre; opacity: 1;\">100</text></g><g class=\"ycb2751d4tick\"><text text-anchor=\"start\" x=\"537.9\" y=\"4.199999999999999\" style=\"font-family: 'Open Sans', verdana, arial, sans-serif; font-size: 12px; fill: rgb(42, 63, 95); fill-opacity: 1; white-space: pre; opacity: 1;\" transform=\"translate(0,292.15999999999997)\">150</text></g><g class=\"ycb2751d4tick\"><text text-anchor=\"start\" x=\"537.9\" y=\"4.199999999999999\" style=\"font-family: 'Open Sans', verdana, arial, sans-serif; font-size: 12px; fill: rgb(42, 63, 95); fill-opacity: 1; white-space: pre; opacity: 1;\" transform=\"translate(0,253.57999999999998)\">200</text></g><g class=\"ycb2751d4tick\"><text text-anchor=\"start\" x=\"537.9\" y=\"4.199999999999999\" style=\"font-family: 'Open Sans', verdana, arial, sans-serif; font-size: 12px; fill: rgb(42, 63, 95); fill-opacity: 1; white-space: pre; opacity: 1;\" transform=\"translate(0,215)\">250</text></g><g class=\"ycb2751d4tick\"><text text-anchor=\"start\" x=\"537.9\" y=\"4.199999999999999\" style=\"font-family: 'Open Sans', verdana, arial, sans-serif; font-size: 12px; fill: rgb(42, 63, 95); fill-opacity: 1; white-space: pre; opacity: 1;\" transform=\"translate(0,176.42)\">300</text></g><g class=\"ycb2751d4tick\"><text text-anchor=\"start\" x=\"537.9\" y=\"4.199999999999999\" style=\"font-family: 'Open Sans', verdana, arial, sans-serif; font-size: 12px; fill: rgb(42, 63, 95); fill-opacity: 1; white-space: pre; opacity: 1;\" transform=\"translate(0,137.83999999999997)\">350</text></g><g class=\"ycb2751d4tick\"><text text-anchor=\"start\" x=\"537.9\" y=\"4.199999999999999\" style=\"font-family: 'Open Sans', verdana, arial, sans-serif; font-size: 12px; fill: rgb(42, 63, 95); fill-opacity: 1; white-space: pre; opacity: 1;\" transform=\"translate(0,99.25999999999999)\">400</text></g></g><g class=\"cbtitleunshift\" transform=\"translate(-120,-80)\"><g class=\"cbtitle\"/></g><rect class=\"cboutline\" x=\"505\" y=\"10\" width=\"30\" height=\"250\" style=\"stroke: rgb(68, 68, 68); stroke-opacity: 1; fill: none; stroke-width: 0;\"/></g><g class=\"g-gtitle\"><text class=\"gtitle\" x=\"350\" y=\"40\" text-anchor=\"middle\" dy=\"0em\" style=\"font-family: 'Open Sans', verdana, arial, sans-serif; font-size: 17px; fill: rgb(42, 63, 95); opacity: 1; font-weight: normal; white-space: pre;\"><tspan style=\"font-weight:bold\">Confusion matrix</tspan></text></g><g class=\"g-xtitle\"/><g class=\"g-ytitle\"/><g class=\"annotation\" data-index=\"0\" style=\"opacity: 1;\"><g class=\"annotation-text-g\" transform=\"rotate(0,241.25,147.5)\"><g class=\"cursor-pointer\" transform=\"translate(228,138)\"><rect class=\"bg\" x=\"0.5\" y=\"0.5\" width=\"26\" height=\"18\" style=\"stroke-width: 1px; stroke: rgb(0, 0, 0); stroke-opacity: 0; fill: rgb(0, 0, 0); fill-opacity: 0;\"/><text class=\"annotation-text\" text-anchor=\"middle\" x=\"13.453125\" y=\"14\" style=\"font-family: 'Open Sans', verdana, arial, sans-serif; font-size: 12px; fill: rgb(0, 0, 0); fill-opacity: 1; white-space: pre;\">412</text></g></g></g><g class=\"annotation\" data-index=\"1\" style=\"opacity: 1;\"><g class=\"annotation-text-g\" transform=\"rotate(0,483.75,147.5)\"><g class=\"cursor-pointer\" transform=\"translate(474,138)\"><rect class=\"bg\" x=\"0.5\" y=\"0.5\" width=\"19\" height=\"18\" style=\"stroke-width: 1px; stroke: rgb(0, 0, 0); stroke-opacity: 0; fill: rgb(0, 0, 0); fill-opacity: 0;\"/><text class=\"annotation-text\" text-anchor=\"middle\" x=\"9.640625\" y=\"14\" style=\"font-family: 'Open Sans', verdana, arial, sans-serif; font-size: 12px; fill: rgb(255, 255, 255); fill-opacity: 1; white-space: pre;\">88</text></g></g></g><g class=\"annotation\" data-index=\"2\" style=\"opacity: 1;\"><g class=\"annotation-text-g\" transform=\"rotate(0,241.25,282.5)\"><g class=\"cursor-pointer\" transform=\"translate(228,273)\"><rect class=\"bg\" x=\"0.5\" y=\"0.5\" width=\"26\" height=\"18\" style=\"stroke-width: 1px; stroke: rgb(0, 0, 0); stroke-opacity: 0; fill: rgb(0, 0, 0); fill-opacity: 0;\"/><text class=\"annotation-text\" text-anchor=\"middle\" x=\"13.453125\" y=\"14\" style=\"font-family: 'Open Sans', verdana, arial, sans-serif; font-size: 12px; fill: rgb(255, 255, 255); fill-opacity: 1; white-space: pre;\">170</text></g></g></g><g class=\"annotation\" data-index=\"3\" style=\"opacity: 1;\"><g class=\"annotation-text-g\" transform=\"rotate(0,483.75,282.5)\"><g class=\"cursor-pointer\" transform=\"translate(470,273)\"><rect class=\"bg\" x=\"0.5\" y=\"0.5\" width=\"26\" height=\"18\" style=\"stroke-width: 1px; stroke: rgb(0, 0, 0); stroke-opacity: 0; fill: rgb(0, 0, 0); fill-opacity: 0;\"/><text class=\"annotation-text\" text-anchor=\"middle\" x=\"13.453125\" y=\"14\" style=\"font-family: 'Open Sans', verdana, arial, sans-serif; font-size: 12px; fill: rgb(0, 0, 0); fill-opacity: 1; white-space: pre;\">330</text></g></g></g><g class=\"annotation\" data-index=\"4\" style=\"opacity: 1;\"><g class=\"annotation-text-g\" transform=\"rotate(0,362.5,380)\"><g class=\"cursor-pointer\" transform=\"translate(309,370)\"><rect class=\"bg\" x=\"0.5\" y=\"0.5\" width=\"106\" height=\"20\" style=\"stroke-width: 1px; stroke: rgb(0, 0, 0); stroke-opacity: 0; fill: rgb(0, 0, 0); fill-opacity: 0;\"/><text class=\"annotation-text\" text-anchor=\"middle\" x=\"53.640625\" y=\"16\" style=\"font-family: 'Open Sans', verdana, arial, sans-serif; font-size: 14px; fill: rgb(0, 0, 0); fill-opacity: 1; white-space: pre;\">Predicted label</text></g></g></g><g class=\"annotation\" data-index=\"5\" style=\"opacity: 1;\"><g class=\"annotation-text-g\" transform=\"rotate(-90,57.75,215)\"><g class=\"cursor-pointer\" transform=\"translate(14,205)\"><rect class=\"bg\" x=\"0.5\" y=\"0.5\" width=\"86\" height=\"20\" style=\"stroke-width: 1px; stroke: rgb(0, 0, 0); stroke-opacity: 0; fill: rgb(0, 0, 0); fill-opacity: 0;\"/><text class=\"annotation-text\" text-anchor=\"middle\" x=\"43.796875\" y=\"16\" style=\"font-family: 'Open Sans', verdana, arial, sans-serif; font-size: 14px; fill: rgb(0, 0, 0); fill-opacity: 1; white-space: pre;\">Actual label</text></g></g></g></g></svg>"
      ]
     },
     "metadata": {},
     "output_type": "display_data"
    }
   ],
   "source": [
    "# plot new confusion matrix\n",
    "# Create the list of unique labels in the test set to use in our plot\n",
    "unique_targets = sorted(list(balanced_dataset[\"is_hiker\"].unique()))\n",
    "\n",
    "# Convert values to lower case so the plot code can count the outcomes\n",
    "x = y = [str(s).lower() for s in unique_targets]\n",
    "\n",
    "# Plot the matrix above as a heatmap with annotations (values) in its cells\n",
    "fig = ff.create_annotated_heatmap(cm, x, y)\n",
    "\n",
    "# Set titles and ordering\n",
    "fig.update_layout(  title_text=\"<b>Confusion matrix</b>\", \n",
    "                    yaxis = dict(categoryorder = \"category descending\")\n",
    "                    )\n",
    "\n",
    "fig.add_annotation(dict(font=dict(color=\"black\",size=14),\n",
    "                        x=0.5,\n",
    "                        y=-0.15,\n",
    "                        showarrow=False,\n",
    "                        text=\"Predicted label\",\n",
    "                        xref=\"paper\",\n",
    "                        yref=\"paper\"))\n",
    "\n",
    "fig.add_annotation(dict(font=dict(color=\"black\",size=14),\n",
    "                        x=-0.15,\n",
    "                        y=0.5,\n",
    "                        showarrow=False,\n",
    "                        text=\"Actual label\",\n",
    "                        textangle=-90,\n",
    "                        xref=\"paper\",\n",
    "                        yref=\"paper\"))\n",
    "\n",
    "# We need margins so the titles fit\n",
    "fig.update_layout(margin=dict(t=80, r=20, l=120, b=50))\n",
    "fig['data'][0]['showscale'] = True\n",
    "fig.show()"
   ]
  },
  {
   "cell_type": "markdown",
   "metadata": {},
   "source": [
    "The confusion matrix confirms the poor accuracy using this dataset, but why is this happening when we had such excellent metrics in the earlier *train* and *test* sets?\n",
    "\n",
    "Recall that the first model was heavily imbalanced. The \"hiker\" class made up roughly 22% of the outcomes.\n",
    "\n",
    "When such an imbalance happens, classification models don't have enough data to learn the patterns for the minority __class__, and as a consequence become biased towards the __majority__ class!\n",
    "\n",
    "Imbalanced sets can be addressed in a number of ways:\n",
    "\n",
    "- Improving data selection\n",
    "- Resampling the dataset\n",
    "- Using weighted classes\n",
    "\n",
    "For this exercise, we will focus on the last option.\n",
    "\n",
    "## Using class weights to balance dataset\n",
    "\n",
    "We can assign different *weights* to the majority and minority classes, according to their distribution, and modify our training algorithm so that it takes that information into account during the training phase.\n",
    "\n",
    "It will then penalize errors when the minority class is misclassified, in essence \"forcing\" the model to to better learn their features and patterns.\n",
    "\n",
    "To use weighted classes, we have to retrain our model using the original *train* set, but this time telling the algorithm to use weights when calculating errors:"
   ]
  },
  {
   "cell_type": "code",
   "execution_count": 12,
   "metadata": {},
   "outputs": [
    {
     "name": "stdout",
     "output_type": "stream",
     "text": [
      "Train accuracy: 0.9602272727272727\n",
      "Test accuracy: 0.8704545454545455\n"
     ]
    }
   ],
   "source": [
    "# Import function used in calculating weights\n",
    "from sklearn.utils import class_weight\n",
    "\n",
    "# Retrain model using class weights\n",
    "# Using class_weight=\"balanced\" tells the algorithm to automatically calculate weights for us\n",
    "weighted_model = RandomForestClassifier(n_estimators=1, random_state=1, verbose=False, class_weight=\"balanced\")\n",
    "# Train the weighted_model using binary label\n",
    "weighted_model.fit(train[features], train.is_hiker)\n",
    "\n",
    "print(\"Train accuracy:\", assess_accuracy(weighted_model,train, \"is_hiker\"))\n",
    "print(\"Test accuracy:\", assess_accuracy(weighted_model, test, \"is_hiker\"))"
   ]
  },
  {
   "cell_type": "code",
   "execution_count": 13,
   "metadata": {},
   "outputs": [
    {
     "name": "stdout",
     "output_type": "stream",
     "text": [
      "Balanced set accuracy: 0.758\n"
     ]
    }
   ],
   "source": [
    "print(\"Balanced set accuracy:\", assess_accuracy(weighted_model, balanced_dataset, \"is_hiker\"))\n",
    "\n",
    "# Test the weighted_model using a balanced dataset\n",
    "actual = balanced_dataset.is_hiker\n",
    "predictions = weighted_model.predict(balanced_dataset[features])\n",
    "\n",
    "# Build and print our confusion matrix, using the actual values and predictions \n",
    "# from the test set, calculated in previous cells\n",
    "cm = confusion_matrix(actual, predictions, normalize=None)"
   ]
  },
  {
   "cell_type": "code",
   "execution_count": 14,
   "metadata": {},
   "outputs": [
    {
     "data": {
      "image/svg+xml": [
       "<svg class=\"main-svg\" xmlns=\"http://www.w3.org/2000/svg\" xmlns:xlink=\"http://www.w3.org/1999/xlink\" width=\"700\" height=\"400\" style=\"\" viewBox=\"0 0 700 400\"><rect x=\"0\" y=\"0\" width=\"700\" height=\"400\" style=\"fill: rgb(255, 255, 255); fill-opacity: 1;\"/><defs id=\"defs-196093\"><g class=\"clips\"><clipPath id=\"clip196093xyplot\" class=\"plotclip\"><rect width=\"485\" height=\"270\"/></clipPath><clipPath class=\"axesclip\" id=\"clip196093x\"><rect x=\"120\" y=\"0\" width=\"485\" height=\"400\"/></clipPath><clipPath class=\"axesclip\" id=\"clip196093y\"><rect x=\"0\" y=\"80\" width=\"700\" height=\"270\"/></clipPath><clipPath class=\"axesclip\" id=\"clip196093xy\"><rect x=\"120\" y=\"80\" width=\"485\" height=\"270\"/></clipPath></g><g class=\"gradients\"><linearGradient x1=\"0\" x2=\"0\" y1=\"1\" y2=\"0\" id=\"g196093-cb7c5712\"><stop offset=\"0%\" stop-color=\"rgb(13, 8, 135)\" stop-opacity=\"1\"/><stop offset=\"11.111111%\" stop-color=\"rgb(70, 3, 159)\" stop-opacity=\"1\"/><stop offset=\"22.222222%\" stop-color=\"rgb(114, 1, 168)\" stop-opacity=\"1\"/><stop offset=\"33.333333%\" stop-color=\"rgb(156, 23, 158)\" stop-opacity=\"1\"/><stop offset=\"44.444444%\" stop-color=\"rgb(189, 55, 134)\" stop-opacity=\"1\"/><stop offset=\"55.555556%\" stop-color=\"rgb(216, 87, 107)\" stop-opacity=\"1\"/><stop offset=\"66.666667%\" stop-color=\"rgb(237, 121, 83)\" stop-opacity=\"1\"/><stop offset=\"77.777778%\" stop-color=\"rgb(251, 159, 58)\" stop-opacity=\"1\"/><stop offset=\"88.888889%\" stop-color=\"rgb(253, 202, 38)\" stop-opacity=\"1\"/><stop offset=\"100%\" stop-color=\"rgb(240, 249, 33)\" stop-opacity=\"1\"/></linearGradient></g><g class=\"patterns\"/></defs><g class=\"bglayer\"/><g class=\"layer-below\"><g class=\"imagelayer\"/><g class=\"shapelayer\"/></g><g class=\"cartesianlayer\"><g class=\"subplot xy\"><g class=\"layer-subplot\"><g class=\"shapelayer\"/><g class=\"imagelayer\"/></g><g class=\"minor-gridlayer\"><g class=\"x\"/><g class=\"y\"/></g><g class=\"gridlayer\"><g class=\"x\"><path class=\"xgrid crisp\" transform=\"translate(241.25,0)\" d=\"M0,80v270\" style=\"stroke: rgb(0, 0, 0); stroke-opacity: 1; stroke-width: 1px;\"/><path class=\"xgrid crisp\" transform=\"translate(483.75,0)\" d=\"M0,80v270\" style=\"stroke: rgb(0, 0, 0); stroke-opacity: 1; stroke-width: 1px;\"/></g><g class=\"y\"><path class=\"ygrid crisp\" transform=\"translate(0,282.5)\" d=\"M120,0h485\" style=\"stroke: rgb(235, 240, 248); stroke-opacity: 1; stroke-width: 1px;\"/><path class=\"ygrid crisp\" transform=\"translate(0,147.5)\" d=\"M120,0h485\" style=\"stroke: rgb(235, 240, 248); stroke-opacity: 1; stroke-width: 1px;\"/></g></g><g class=\"zerolinelayer\"/><path class=\"xlines-below\"/><path class=\"ylines-below\"/><g class=\"overlines-below\"/><g class=\"xaxislayer-below\"/><g class=\"yaxislayer-below\"/><g class=\"overaxes-below\"/><g class=\"plot\" transform=\"translate(120,80)\" clip-path=\"url(#clip196093xyplot)\"><g class=\"heatmaplayer mlayer\"><g class=\"hm\"><image xmlns=\"http://www.w3.org/2000/svg\" preserveAspectRatio=\"none\" height=\"270\" width=\"485\" x=\"0\" y=\"0\" xlink:href=\"data:image/png;base64,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\" style=\"opacity: 1;\"/></g></g></g><g class=\"overplot\"/><path class=\"xlines-above crisp\" d=\"M118,79H605\" style=\"fill: none; stroke-width: 2px; stroke: rgb(235, 240, 248); stroke-opacity: 1;\"/><path class=\"ylines-above crisp\" d=\"M119,80V350\" style=\"fill: none; stroke-width: 2px; stroke: rgb(235, 240, 248); stroke-opacity: 1;\"/><g class=\"overlines-above\"/><g class=\"xaxislayer-above\"><g class=\"xtick\"><text text-anchor=\"middle\" x=\"0\" y=\"73.19999999999999\" transform=\"translate(241.25,0)\" style=\"font-family: 'Open Sans', verdana, arial, sans-serif; font-size: 12px; fill: rgb(42, 63, 95); fill-opacity: 1; white-space: pre; opacity: 1;\">false</text></g><g class=\"xtick\"><text text-anchor=\"middle\" x=\"0\" y=\"73.19999999999999\" transform=\"translate(483.75,0)\" style=\"font-family: 'Open Sans', verdana, arial, sans-serif; font-size: 12px; fill: rgb(42, 63, 95); fill-opacity: 1; white-space: pre; opacity: 1;\">true</text></g></g><g class=\"yaxislayer-above\"><g class=\"ytick\"><text text-anchor=\"end\" x=\"115.6\" y=\"4.199999999999999\" transform=\"translate(0,282.5)\" style=\"font-family: 'Open Sans', verdana, arial, sans-serif; font-size: 12px; fill: rgb(42, 63, 95); fill-opacity: 1; white-space: pre; opacity: 1;\">true  </text></g><g class=\"ytick\"><text text-anchor=\"end\" x=\"115.6\" y=\"4.199999999999999\" transform=\"translate(0,147.5)\" style=\"font-family: 'Open Sans', verdana, arial, sans-serif; font-size: 12px; fill: rgb(42, 63, 95); fill-opacity: 1; white-space: pre; opacity: 1;\">false  </text></g></g><g class=\"overaxes-above\"/></g></g><g class=\"polarlayer\"/><g class=\"smithlayer\"/><g class=\"ternarylayer\"/><g class=\"geolayer\"/><g class=\"funnelarealayer\"/><g class=\"pielayer\"/><g class=\"iciclelayer\"/><g class=\"treemaplayer\"/><g class=\"sunburstlayer\"/><g class=\"glimages\"/><defs id=\"topdefs-196093\"><g class=\"clips\"/></defs><g class=\"layer-above\"><g class=\"imagelayer\"/><g class=\"shapelayer\"/></g><g class=\"infolayer\"><g class=\"cb7c5712 colorbar\" transform=\"translate(120,80)\"><rect class=\"cbbg\" x=\"495\" y=\"0\" width=\"73.28125\" height=\"270\" style=\"fill: rgb(0, 0, 0); fill-opacity: 0; stroke: rgb(68, 68, 68); stroke-opacity: 1; stroke-width: 0;\"/><g class=\"cbfills\" transform=\"translate(0,10)\"><rect class=\"cbfill gradient_filled\" x=\"505\" y=\"0\" width=\"30\" height=\"250\" style=\"fill: url('#g196093-cb7c5712');\"/></g><g class=\"cblines\" transform=\"translate(0,10)\"/><g class=\"cbaxis crisp\" transform=\"translate(0,-80)\"><g class=\"ycb7c5712tick\"><text text-anchor=\"start\" x=\"537.9\" y=\"4.199999999999999\" transform=\"translate(0,319.16999999999996)\" style=\"font-family: 'Open Sans', verdana, arial, sans-serif; font-size: 12px; fill: rgb(42, 63, 95); fill-opacity: 1; white-space: pre; opacity: 1;\">100</text></g><g class=\"ycb7c5712tick\"><text text-anchor=\"start\" x=\"537.9\" y=\"4.199999999999999\" style=\"font-family: 'Open Sans', verdana, arial, sans-serif; font-size: 12px; fill: rgb(42, 63, 95); fill-opacity: 1; white-space: pre; opacity: 1;\" transform=\"translate(0,284.44)\">150</text></g><g class=\"ycb7c5712tick\"><text text-anchor=\"start\" x=\"537.9\" y=\"4.199999999999999\" style=\"font-family: 'Open Sans', verdana, arial, sans-serif; font-size: 12px; fill: rgb(42, 63, 95); fill-opacity: 1; white-space: pre; opacity: 1;\" transform=\"translate(0,249.71999999999997)\">200</text></g><g class=\"ycb7c5712tick\"><text text-anchor=\"start\" x=\"537.9\" y=\"4.199999999999999\" style=\"font-family: 'Open Sans', verdana, arial, sans-serif; font-size: 12px; fill: rgb(42, 63, 95); fill-opacity: 1; white-space: pre; opacity: 1;\" transform=\"translate(0,215)\">250</text></g><g class=\"ycb7c5712tick\"><text text-anchor=\"start\" x=\"537.9\" y=\"4.199999999999999\" style=\"font-family: 'Open Sans', verdana, arial, sans-serif; font-size: 12px; fill: rgb(42, 63, 95); fill-opacity: 1; white-space: pre; opacity: 1;\" transform=\"translate(0,180.27999999999997)\">300</text></g><g class=\"ycb7c5712tick\"><text text-anchor=\"start\" x=\"537.9\" y=\"4.199999999999999\" style=\"font-family: 'Open Sans', verdana, arial, sans-serif; font-size: 12px; fill: rgb(42, 63, 95); fill-opacity: 1; white-space: pre; opacity: 1;\" transform=\"translate(0,145.56)\">350</text></g><g class=\"ycb7c5712tick\"><text text-anchor=\"start\" x=\"537.9\" y=\"4.199999999999999\" style=\"font-family: 'Open Sans', verdana, arial, sans-serif; font-size: 12px; fill: rgb(42, 63, 95); fill-opacity: 1; white-space: pre; opacity: 1;\" transform=\"translate(0,110.82999999999998)\">400</text></g></g><g class=\"cbtitleunshift\" transform=\"translate(-120,-80)\"><g class=\"cbtitle\"/></g><rect class=\"cboutline\" x=\"505\" y=\"10\" width=\"30\" height=\"250\" style=\"stroke: rgb(68, 68, 68); stroke-opacity: 1; fill: none; stroke-width: 0;\"/></g><g class=\"g-gtitle\"><text class=\"gtitle\" x=\"350\" y=\"40\" text-anchor=\"middle\" dy=\"0em\" style=\"font-family: 'Open Sans', verdana, arial, sans-serif; font-size: 17px; fill: rgb(42, 63, 95); opacity: 1; font-weight: normal; white-space: pre;\"><tspan style=\"font-weight:bold\">Confusion matrix</tspan></text></g><g class=\"g-xtitle\"/><g class=\"g-ytitle\"/><g class=\"annotation\" data-index=\"0\" style=\"opacity: 1;\"><g class=\"annotation-text-g\" transform=\"rotate(0,241.25,147.5)\"><g class=\"cursor-pointer\" transform=\"translate(228,138)\"><rect class=\"bg\" x=\"0.5\" y=\"0.5\" width=\"26\" height=\"18\" style=\"stroke-width: 1px; stroke: rgb(0, 0, 0); stroke-opacity: 0; fill: rgb(0, 0, 0); fill-opacity: 0;\"/><text class=\"annotation-text\" text-anchor=\"middle\" x=\"13.453125\" y=\"14\" style=\"font-family: 'Open Sans', verdana, arial, sans-serif; font-size: 12px; fill: rgb(0, 0, 0); fill-opacity: 1; white-space: pre;\">430</text></g></g></g><g class=\"annotation\" data-index=\"1\" style=\"opacity: 1;\"><g class=\"annotation-text-g\" transform=\"rotate(0,483.75,147.5)\"><g class=\"cursor-pointer\" transform=\"translate(474,138)\"><rect class=\"bg\" x=\"0.5\" y=\"0.5\" width=\"19\" height=\"18\" style=\"stroke-width: 1px; stroke: rgb(0, 0, 0); stroke-opacity: 0; fill: rgb(0, 0, 0); fill-opacity: 0;\"/><text class=\"annotation-text\" text-anchor=\"middle\" x=\"9.640625\" y=\"14\" style=\"font-family: 'Open Sans', verdana, arial, sans-serif; font-size: 12px; fill: rgb(255, 255, 255); fill-opacity: 1; white-space: pre;\">70</text></g></g></g><g class=\"annotation\" data-index=\"2\" style=\"opacity: 1;\"><g class=\"annotation-text-g\" transform=\"rotate(0,241.25,282.5)\"><g class=\"cursor-pointer\" transform=\"translate(228,273)\"><rect class=\"bg\" x=\"0.5\" y=\"0.5\" width=\"26\" height=\"18\" style=\"stroke-width: 1px; stroke: rgb(0, 0, 0); stroke-opacity: 0; fill: rgb(0, 0, 0); fill-opacity: 0;\"/><text class=\"annotation-text\" text-anchor=\"middle\" x=\"13.453125\" y=\"14\" style=\"font-family: 'Open Sans', verdana, arial, sans-serif; font-size: 12px; fill: rgb(255, 255, 255); fill-opacity: 1; white-space: pre;\">172</text></g></g></g><g class=\"annotation\" data-index=\"3\" style=\"opacity: 1;\"><g class=\"annotation-text-g\" transform=\"rotate(0,483.75,282.5)\"><g class=\"cursor-pointer\" transform=\"translate(470,273)\"><rect class=\"bg\" x=\"0.5\" y=\"0.5\" width=\"26\" height=\"18\" style=\"stroke-width: 1px; stroke: rgb(0, 0, 0); stroke-opacity: 0; fill: rgb(0, 0, 0); fill-opacity: 0;\"/><text class=\"annotation-text\" text-anchor=\"middle\" x=\"13.453125\" y=\"14\" style=\"font-family: 'Open Sans', verdana, arial, sans-serif; font-size: 12px; fill: rgb(0, 0, 0); fill-opacity: 1; white-space: pre;\">328</text></g></g></g><g class=\"annotation\" data-index=\"4\" style=\"opacity: 1;\"><g class=\"annotation-text-g\" transform=\"rotate(0,362.5,380)\"><g class=\"cursor-pointer\" transform=\"translate(309,370)\"><rect class=\"bg\" x=\"0.5\" y=\"0.5\" width=\"106\" height=\"20\" style=\"stroke-width: 1px; stroke: rgb(0, 0, 0); stroke-opacity: 0; fill: rgb(0, 0, 0); fill-opacity: 0;\"/><text class=\"annotation-text\" text-anchor=\"middle\" x=\"53.640625\" y=\"16\" style=\"font-family: 'Open Sans', verdana, arial, sans-serif; font-size: 14px; fill: rgb(0, 0, 0); fill-opacity: 1; white-space: pre;\">Predicted label</text></g></g></g><g class=\"annotation\" data-index=\"5\" style=\"opacity: 1;\"><g class=\"annotation-text-g\" transform=\"rotate(-90,57.75,215)\"><g class=\"cursor-pointer\" transform=\"translate(14,205)\"><rect class=\"bg\" x=\"0.5\" y=\"0.5\" width=\"86\" height=\"20\" style=\"stroke-width: 1px; stroke: rgb(0, 0, 0); stroke-opacity: 0; fill: rgb(0, 0, 0); fill-opacity: 0;\"/><text class=\"annotation-text\" text-anchor=\"middle\" x=\"43.796875\" y=\"16\" style=\"font-family: 'Open Sans', verdana, arial, sans-serif; font-size: 14px; fill: rgb(0, 0, 0); fill-opacity: 1; white-space: pre;\">Actual label</text></g></g></g></g></svg>"
      ]
     },
     "metadata": {},
     "output_type": "display_data"
    }
   ],
   "source": [
    "# Plot the matrix above as a heatmap with annotations (values) in its cells\n",
    "fig = ff.create_annotated_heatmap(cm, x, y)\n",
    "\n",
    "# Set titles and ordering\n",
    "fig.update_layout(  title_text=\"<b>Confusion matrix</b>\", \n",
    "                    yaxis = dict(categoryorder = \"category descending\")\n",
    "                    )\n",
    "\n",
    "fig.add_annotation(dict(font=dict(color=\"black\",size=14),\n",
    "                        x=0.5,\n",
    "                        y=-0.15,\n",
    "                        showarrow=False,\n",
    "                        text=\"Predicted label\",\n",
    "                        xref=\"paper\",\n",
    "                        yref=\"paper\"))\n",
    "\n",
    "fig.add_annotation(dict(font=dict(color=\"black\",size=14),\n",
    "                        x=-0.15,\n",
    "                        y=0.5,\n",
    "                        showarrow=False,\n",
    "                        text=\"Actual label\",\n",
    "                        textangle=-90,\n",
    "                        xref=\"paper\",\n",
    "                        yref=\"paper\"))\n",
    "\n",
    "# We need margins so the titles fit\n",
    "fig.update_layout(margin=dict(t=80, r=20, l=120, b=50))\n",
    "fig['data'][0]['showscale'] = True\n",
    "fig.show()"
   ]
  }
 ],
 "metadata": {
  "kernelspec": {
   "display_name": "Python 3 (ipykernel)",
   "language": "python",
   "name": "python3"
  },
  "language_info": {
   "codemirror_mode": {
    "name": "ipython",
    "version": 3
   },
   "file_extension": ".py",
   "mimetype": "text/x-python",
   "name": "python",
   "nbconvert_exporter": "python",
   "pygments_lexer": "ipython3",
   "version": "3.9.7"
  },
  "toc": {
   "base_numbering": 1,
   "nav_menu": {},
   "number_sections": true,
   "sideBar": true,
   "skip_h1_title": false,
   "title_cell": "Table of Contents",
   "title_sidebar": "Contents",
   "toc_cell": false,
   "toc_position": {},
   "toc_section_display": true,
   "toc_window_display": false
  }
 },
 "nbformat": 4,
 "nbformat_minor": 2
}
